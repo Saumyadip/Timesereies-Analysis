{
  "nbformat": 4,
  "nbformat_minor": 0,
  "metadata": {
    "colab": {
      "name": "Timeseries Analysis using ARIMA + Holt Winters.ipynb",
      "provenance": [],
      "collapsed_sections": [],
      "mount_file_id": "1FfolevThwc1WA1wg42Ev7L6h_OTAICo5",
      "authorship_tag": "ABX9TyMBNFRYN3h4d68C/0Szkc4D",
      "include_colab_link": true
    },
    "kernelspec": {
      "name": "python3",
      "display_name": "Python 3"
    },
    "language_info": {
      "name": "python"
    }
  },
  "cells": [
    {
      "cell_type": "markdown",
      "metadata": {
        "id": "view-in-github",
        "colab_type": "text"
      },
      "source": [
        "<a href=\"https://colab.research.google.com/github/Saumyadip/Timeseries-Analysis/blob/main/Timeseries_Analysis_using_ARIMA_%2B_Holt_Winters.ipynb\" target=\"_parent\"><img src=\"https://colab.research.google.com/assets/colab-badge.svg\" alt=\"Open In Colab\"/></a>"
      ]
    },
    {
      "cell_type": "code",
      "execution_count": null,
      "metadata": {
        "id": "pkouGl7POWuA"
      },
      "outputs": [],
      "source": [
        "#importing necessary libraries\n",
        "\n",
        "import numpy as np\n",
        "import pandas as pd\n",
        "\n",
        "import matplotlib.pyplot as plt\n",
        "%matplotlib inline\n",
        "\n",
        "from google.colab import data_table\n",
        "data_table.enable_dataframe_formatter()"
      ]
    },
    {
      "cell_type": "code",
      "source": [
        "# reading from the file stored in Google drive\n",
        "\n",
        "df=pd.read_excel('/content/drive/MyDrive/Capstone/TS Data/TS Data.xlsx')"
      ],
      "metadata": {
        "id": "vGrjq6D-Pqmf"
      },
      "execution_count": null,
      "outputs": []
    },
    {
      "cell_type": "code",
      "source": [
        "df.head()"
      ],
      "metadata": {
        "colab": {
          "base_uri": "https://localhost:8080/",
          "height": 197
        },
        "id": "qCyIkefRPzYY",
        "outputId": "31505754-7474-4334-ddef-055a4220f3d2"
      },
      "execution_count": null,
      "outputs": [
        {
          "output_type": "execute_result",
          "data": {
            "text/plain": [
              "       Month  Attrition\n",
              "0 2021-04-01         56\n",
              "1 2021-05-01         99\n",
              "2 2021-06-01         87\n",
              "3 2021-07-01        100\n",
              "4 2021-08-01        106"
            ],
            "text/html": [
              "\n",
              "  <div id=\"df-ff5218d1-ddd1-44f3-a1e5-db806ba98353\">\n",
              "    <div class=\"colab-df-container\">\n",
              "      <div>\n",
              "<style scoped>\n",
              "    .dataframe tbody tr th:only-of-type {\n",
              "        vertical-align: middle;\n",
              "    }\n",
              "\n",
              "    .dataframe tbody tr th {\n",
              "        vertical-align: top;\n",
              "    }\n",
              "\n",
              "    .dataframe thead th {\n",
              "        text-align: right;\n",
              "    }\n",
              "</style>\n",
              "<table border=\"1\" class=\"dataframe\">\n",
              "  <thead>\n",
              "    <tr style=\"text-align: right;\">\n",
              "      <th></th>\n",
              "      <th>Month</th>\n",
              "      <th>Attrition</th>\n",
              "    </tr>\n",
              "  </thead>\n",
              "  <tbody>\n",
              "    <tr>\n",
              "      <th>0</th>\n",
              "      <td>2021-04-01</td>\n",
              "      <td>56</td>\n",
              "    </tr>\n",
              "    <tr>\n",
              "      <th>1</th>\n",
              "      <td>2021-05-01</td>\n",
              "      <td>99</td>\n",
              "    </tr>\n",
              "    <tr>\n",
              "      <th>2</th>\n",
              "      <td>2021-06-01</td>\n",
              "      <td>87</td>\n",
              "    </tr>\n",
              "    <tr>\n",
              "      <th>3</th>\n",
              "      <td>2021-07-01</td>\n",
              "      <td>100</td>\n",
              "    </tr>\n",
              "    <tr>\n",
              "      <th>4</th>\n",
              "      <td>2021-08-01</td>\n",
              "      <td>106</td>\n",
              "    </tr>\n",
              "  </tbody>\n",
              "</table>\n",
              "</div>\n",
              "      <button class=\"colab-df-convert\" onclick=\"convertToInteractive('df-ff5218d1-ddd1-44f3-a1e5-db806ba98353')\"\n",
              "              title=\"Convert this dataframe to an interactive table.\"\n",
              "              style=\"display:none;\">\n",
              "        \n",
              "  <svg xmlns=\"http://www.w3.org/2000/svg\" height=\"24px\"viewBox=\"0 0 24 24\"\n",
              "       width=\"24px\">\n",
              "    <path d=\"M0 0h24v24H0V0z\" fill=\"none\"/>\n",
              "    <path d=\"M18.56 5.44l.94 2.06.94-2.06 2.06-.94-2.06-.94-.94-2.06-.94 2.06-2.06.94zm-11 1L8.5 8.5l.94-2.06 2.06-.94-2.06-.94L8.5 2.5l-.94 2.06-2.06.94zm10 10l.94 2.06.94-2.06 2.06-.94-2.06-.94-.94-2.06-.94 2.06-2.06.94z\"/><path d=\"M17.41 7.96l-1.37-1.37c-.4-.4-.92-.59-1.43-.59-.52 0-1.04.2-1.43.59L10.3 9.45l-7.72 7.72c-.78.78-.78 2.05 0 2.83L4 21.41c.39.39.9.59 1.41.59.51 0 1.02-.2 1.41-.59l7.78-7.78 2.81-2.81c.8-.78.8-2.07 0-2.86zM5.41 20L4 18.59l7.72-7.72 1.47 1.35L5.41 20z\"/>\n",
              "  </svg>\n",
              "      </button>\n",
              "      \n",
              "  <style>\n",
              "    .colab-df-container {\n",
              "      display:flex;\n",
              "      flex-wrap:wrap;\n",
              "      gap: 12px;\n",
              "    }\n",
              "\n",
              "    .colab-df-convert {\n",
              "      background-color: #E8F0FE;\n",
              "      border: none;\n",
              "      border-radius: 50%;\n",
              "      cursor: pointer;\n",
              "      display: none;\n",
              "      fill: #1967D2;\n",
              "      height: 32px;\n",
              "      padding: 0 0 0 0;\n",
              "      width: 32px;\n",
              "    }\n",
              "\n",
              "    .colab-df-convert:hover {\n",
              "      background-color: #E2EBFA;\n",
              "      box-shadow: 0px 1px 2px rgba(60, 64, 67, 0.3), 0px 1px 3px 1px rgba(60, 64, 67, 0.15);\n",
              "      fill: #174EA6;\n",
              "    }\n",
              "\n",
              "    [theme=dark] .colab-df-convert {\n",
              "      background-color: #3B4455;\n",
              "      fill: #D2E3FC;\n",
              "    }\n",
              "\n",
              "    [theme=dark] .colab-df-convert:hover {\n",
              "      background-color: #434B5C;\n",
              "      box-shadow: 0px 1px 3px 1px rgba(0, 0, 0, 0.15);\n",
              "      filter: drop-shadow(0px 1px 2px rgba(0, 0, 0, 0.3));\n",
              "      fill: #FFFFFF;\n",
              "    }\n",
              "  </style>\n",
              "\n",
              "      <script>\n",
              "        const buttonEl =\n",
              "          document.querySelector('#df-ff5218d1-ddd1-44f3-a1e5-db806ba98353 button.colab-df-convert');\n",
              "        buttonEl.style.display =\n",
              "          google.colab.kernel.accessAllowed ? 'block' : 'none';\n",
              "\n",
              "        async function convertToInteractive(key) {\n",
              "          const element = document.querySelector('#df-ff5218d1-ddd1-44f3-a1e5-db806ba98353');\n",
              "          const dataTable =\n",
              "            await google.colab.kernel.invokeFunction('convertToInteractive',\n",
              "                                                     [key], {});\n",
              "          if (!dataTable) return;\n",
              "\n",
              "          const docLinkHtml = 'Like what you see? Visit the ' +\n",
              "            '<a target=\"_blank\" href=https://colab.research.google.com/notebooks/data_table.ipynb>data table notebook</a>'\n",
              "            + ' to learn more about interactive tables.';\n",
              "          element.innerHTML = '';\n",
              "          dataTable['output_type'] = 'display_data';\n",
              "          await google.colab.output.renderOutput(dataTable, element);\n",
              "          const docLink = document.createElement('div');\n",
              "          docLink.innerHTML = docLinkHtml;\n",
              "          element.appendChild(docLink);\n",
              "        }\n",
              "      </script>\n",
              "    </div>\n",
              "  </div>\n",
              "  "
            ],
            "application/vnd.google.colaboratory.module+javascript": "\n      import \"https://ssl.gstatic.com/colaboratory/data_table/a8bd4d5e58f96183/data_table.js\";\n\n      window.createDataTable({\n        data: [[{\n            'v': 0,\n            'f': \"0\",\n        },\n\"2021-04-01 00:00:00\",\n{\n            'v': 56,\n            'f': \"56\",\n        }],\n [{\n            'v': 1,\n            'f': \"1\",\n        },\n\"2021-05-01 00:00:00\",\n{\n            'v': 99,\n            'f': \"99\",\n        }],\n [{\n            'v': 2,\n            'f': \"2\",\n        },\n\"2021-06-01 00:00:00\",\n{\n            'v': 87,\n            'f': \"87\",\n        }],\n [{\n            'v': 3,\n            'f': \"3\",\n        },\n\"2021-07-01 00:00:00\",\n{\n            'v': 100,\n            'f': \"100\",\n        }],\n [{\n            'v': 4,\n            'f': \"4\",\n        },\n\"2021-08-01 00:00:00\",\n{\n            'v': 106,\n            'f': \"106\",\n        }]],\n        columns: [[\"number\", \"index\"], [\"string\", \"Month\"], [\"number\", \"Attrition\"]],\n        columnOptions: [{\"width\": \"1px\", \"className\": \"index_column\"}],\n        rowsPerPage: 25,\n        helpUrl: \"https://colab.research.google.com/notebooks/data_table.ipynb\",\n        suppressOutputScrolling: true,\n        minimumWidth: undefined,\n      });\n    "
          },
          "metadata": {},
          "execution_count": 33
        }
      ]
    },
    {
      "cell_type": "code",
      "source": [
        "# Converting the Month column to DateTime column\n",
        "\n",
        "df['Month']=pd.to_datetime(df['Month'])"
      ],
      "metadata": {
        "id": "RNc52TyTP6Cu"
      },
      "execution_count": null,
      "outputs": []
    },
    {
      "cell_type": "code",
      "source": [
        "df.head()"
      ],
      "metadata": {
        "colab": {
          "base_uri": "https://localhost:8080/",
          "height": 197
        },
        "id": "P99JEJQ9P9WN",
        "outputId": "00a7b00f-a800-4a18-d3b1-c380d109c737"
      },
      "execution_count": null,
      "outputs": [
        {
          "output_type": "execute_result",
          "data": {
            "text/plain": [
              "       Month  Attrition\n",
              "0 2021-04-01         56\n",
              "1 2021-05-01         99\n",
              "2 2021-06-01         87\n",
              "3 2021-07-01        100\n",
              "4 2021-08-01        106"
            ],
            "text/html": [
              "\n",
              "  <div id=\"df-f665d3f0-355e-4a0b-97ea-1c3a8d65e3c6\">\n",
              "    <div class=\"colab-df-container\">\n",
              "      <div>\n",
              "<style scoped>\n",
              "    .dataframe tbody tr th:only-of-type {\n",
              "        vertical-align: middle;\n",
              "    }\n",
              "\n",
              "    .dataframe tbody tr th {\n",
              "        vertical-align: top;\n",
              "    }\n",
              "\n",
              "    .dataframe thead th {\n",
              "        text-align: right;\n",
              "    }\n",
              "</style>\n",
              "<table border=\"1\" class=\"dataframe\">\n",
              "  <thead>\n",
              "    <tr style=\"text-align: right;\">\n",
              "      <th></th>\n",
              "      <th>Month</th>\n",
              "      <th>Attrition</th>\n",
              "    </tr>\n",
              "  </thead>\n",
              "  <tbody>\n",
              "    <tr>\n",
              "      <th>0</th>\n",
              "      <td>2021-04-01</td>\n",
              "      <td>56</td>\n",
              "    </tr>\n",
              "    <tr>\n",
              "      <th>1</th>\n",
              "      <td>2021-05-01</td>\n",
              "      <td>99</td>\n",
              "    </tr>\n",
              "    <tr>\n",
              "      <th>2</th>\n",
              "      <td>2021-06-01</td>\n",
              "      <td>87</td>\n",
              "    </tr>\n",
              "    <tr>\n",
              "      <th>3</th>\n",
              "      <td>2021-07-01</td>\n",
              "      <td>100</td>\n",
              "    </tr>\n",
              "    <tr>\n",
              "      <th>4</th>\n",
              "      <td>2021-08-01</td>\n",
              "      <td>106</td>\n",
              "    </tr>\n",
              "  </tbody>\n",
              "</table>\n",
              "</div>\n",
              "      <button class=\"colab-df-convert\" onclick=\"convertToInteractive('df-f665d3f0-355e-4a0b-97ea-1c3a8d65e3c6')\"\n",
              "              title=\"Convert this dataframe to an interactive table.\"\n",
              "              style=\"display:none;\">\n",
              "        \n",
              "  <svg xmlns=\"http://www.w3.org/2000/svg\" height=\"24px\"viewBox=\"0 0 24 24\"\n",
              "       width=\"24px\">\n",
              "    <path d=\"M0 0h24v24H0V0z\" fill=\"none\"/>\n",
              "    <path d=\"M18.56 5.44l.94 2.06.94-2.06 2.06-.94-2.06-.94-.94-2.06-.94 2.06-2.06.94zm-11 1L8.5 8.5l.94-2.06 2.06-.94-2.06-.94L8.5 2.5l-.94 2.06-2.06.94zm10 10l.94 2.06.94-2.06 2.06-.94-2.06-.94-.94-2.06-.94 2.06-2.06.94z\"/><path d=\"M17.41 7.96l-1.37-1.37c-.4-.4-.92-.59-1.43-.59-.52 0-1.04.2-1.43.59L10.3 9.45l-7.72 7.72c-.78.78-.78 2.05 0 2.83L4 21.41c.39.39.9.59 1.41.59.51 0 1.02-.2 1.41-.59l7.78-7.78 2.81-2.81c.8-.78.8-2.07 0-2.86zM5.41 20L4 18.59l7.72-7.72 1.47 1.35L5.41 20z\"/>\n",
              "  </svg>\n",
              "      </button>\n",
              "      \n",
              "  <style>\n",
              "    .colab-df-container {\n",
              "      display:flex;\n",
              "      flex-wrap:wrap;\n",
              "      gap: 12px;\n",
              "    }\n",
              "\n",
              "    .colab-df-convert {\n",
              "      background-color: #E8F0FE;\n",
              "      border: none;\n",
              "      border-radius: 50%;\n",
              "      cursor: pointer;\n",
              "      display: none;\n",
              "      fill: #1967D2;\n",
              "      height: 32px;\n",
              "      padding: 0 0 0 0;\n",
              "      width: 32px;\n",
              "    }\n",
              "\n",
              "    .colab-df-convert:hover {\n",
              "      background-color: #E2EBFA;\n",
              "      box-shadow: 0px 1px 2px rgba(60, 64, 67, 0.3), 0px 1px 3px 1px rgba(60, 64, 67, 0.15);\n",
              "      fill: #174EA6;\n",
              "    }\n",
              "\n",
              "    [theme=dark] .colab-df-convert {\n",
              "      background-color: #3B4455;\n",
              "      fill: #D2E3FC;\n",
              "    }\n",
              "\n",
              "    [theme=dark] .colab-df-convert:hover {\n",
              "      background-color: #434B5C;\n",
              "      box-shadow: 0px 1px 3px 1px rgba(0, 0, 0, 0.15);\n",
              "      filter: drop-shadow(0px 1px 2px rgba(0, 0, 0, 0.3));\n",
              "      fill: #FFFFFF;\n",
              "    }\n",
              "  </style>\n",
              "\n",
              "      <script>\n",
              "        const buttonEl =\n",
              "          document.querySelector('#df-f665d3f0-355e-4a0b-97ea-1c3a8d65e3c6 button.colab-df-convert');\n",
              "        buttonEl.style.display =\n",
              "          google.colab.kernel.accessAllowed ? 'block' : 'none';\n",
              "\n",
              "        async function convertToInteractive(key) {\n",
              "          const element = document.querySelector('#df-f665d3f0-355e-4a0b-97ea-1c3a8d65e3c6');\n",
              "          const dataTable =\n",
              "            await google.colab.kernel.invokeFunction('convertToInteractive',\n",
              "                                                     [key], {});\n",
              "          if (!dataTable) return;\n",
              "\n",
              "          const docLinkHtml = 'Like what you see? Visit the ' +\n",
              "            '<a target=\"_blank\" href=https://colab.research.google.com/notebooks/data_table.ipynb>data table notebook</a>'\n",
              "            + ' to learn more about interactive tables.';\n",
              "          element.innerHTML = '';\n",
              "          dataTable['output_type'] = 'display_data';\n",
              "          await google.colab.output.renderOutput(dataTable, element);\n",
              "          const docLink = document.createElement('div');\n",
              "          docLink.innerHTML = docLinkHtml;\n",
              "          element.appendChild(docLink);\n",
              "        }\n",
              "      </script>\n",
              "    </div>\n",
              "  </div>\n",
              "  "
            ],
            "application/vnd.google.colaboratory.module+javascript": "\n      import \"https://ssl.gstatic.com/colaboratory/data_table/a8bd4d5e58f96183/data_table.js\";\n\n      window.createDataTable({\n        data: [[{\n            'v': 0,\n            'f': \"0\",\n        },\n\"2021-04-01 00:00:00\",\n{\n            'v': 56,\n            'f': \"56\",\n        }],\n [{\n            'v': 1,\n            'f': \"1\",\n        },\n\"2021-05-01 00:00:00\",\n{\n            'v': 99,\n            'f': \"99\",\n        }],\n [{\n            'v': 2,\n            'f': \"2\",\n        },\n\"2021-06-01 00:00:00\",\n{\n            'v': 87,\n            'f': \"87\",\n        }],\n [{\n            'v': 3,\n            'f': \"3\",\n        },\n\"2021-07-01 00:00:00\",\n{\n            'v': 100,\n            'f': \"100\",\n        }],\n [{\n            'v': 4,\n            'f': \"4\",\n        },\n\"2021-08-01 00:00:00\",\n{\n            'v': 106,\n            'f': \"106\",\n        }]],\n        columns: [[\"number\", \"index\"], [\"string\", \"Month\"], [\"number\", \"Attrition\"]],\n        columnOptions: [{\"width\": \"1px\", \"className\": \"index_column\"}],\n        rowsPerPage: 25,\n        helpUrl: \"https://colab.research.google.com/notebooks/data_table.ipynb\",\n        suppressOutputScrolling: true,\n        minimumWidth: undefined,\n      });\n    "
          },
          "metadata": {},
          "execution_count": 35
        }
      ]
    },
    {
      "cell_type": "code",
      "source": [
        "# Setting month as index column. This is required for Timeseries Modeling\n",
        "\n",
        "df.set_index('Month',inplace=True)"
      ],
      "metadata": {
        "id": "oHQSxOA9QANu"
      },
      "execution_count": null,
      "outputs": []
    },
    {
      "cell_type": "code",
      "source": [
        "df.head()"
      ],
      "metadata": {
        "colab": {
          "base_uri": "https://localhost:8080/",
          "height": 197
        },
        "id": "rBk6Q2aWQCQd",
        "outputId": "293d3231-660f-4139-9539-b71894d2160f"
      },
      "execution_count": null,
      "outputs": [
        {
          "output_type": "execute_result",
          "data": {
            "text/plain": [
              "            Attrition\n",
              "Month                \n",
              "2021-04-01         56\n",
              "2021-05-01         99\n",
              "2021-06-01         87\n",
              "2021-07-01        100\n",
              "2021-08-01        106"
            ],
            "text/html": [
              "\n",
              "  <div id=\"df-6e19bcb9-360b-4b0d-8eaf-b6c9985f901e\">\n",
              "    <div class=\"colab-df-container\">\n",
              "      <div>\n",
              "<style scoped>\n",
              "    .dataframe tbody tr th:only-of-type {\n",
              "        vertical-align: middle;\n",
              "    }\n",
              "\n",
              "    .dataframe tbody tr th {\n",
              "        vertical-align: top;\n",
              "    }\n",
              "\n",
              "    .dataframe thead th {\n",
              "        text-align: right;\n",
              "    }\n",
              "</style>\n",
              "<table border=\"1\" class=\"dataframe\">\n",
              "  <thead>\n",
              "    <tr style=\"text-align: right;\">\n",
              "      <th></th>\n",
              "      <th>Attrition</th>\n",
              "    </tr>\n",
              "    <tr>\n",
              "      <th>Month</th>\n",
              "      <th></th>\n",
              "    </tr>\n",
              "  </thead>\n",
              "  <tbody>\n",
              "    <tr>\n",
              "      <th>2021-04-01</th>\n",
              "      <td>56</td>\n",
              "    </tr>\n",
              "    <tr>\n",
              "      <th>2021-05-01</th>\n",
              "      <td>99</td>\n",
              "    </tr>\n",
              "    <tr>\n",
              "      <th>2021-06-01</th>\n",
              "      <td>87</td>\n",
              "    </tr>\n",
              "    <tr>\n",
              "      <th>2021-07-01</th>\n",
              "      <td>100</td>\n",
              "    </tr>\n",
              "    <tr>\n",
              "      <th>2021-08-01</th>\n",
              "      <td>106</td>\n",
              "    </tr>\n",
              "  </tbody>\n",
              "</table>\n",
              "</div>\n",
              "      <button class=\"colab-df-convert\" onclick=\"convertToInteractive('df-6e19bcb9-360b-4b0d-8eaf-b6c9985f901e')\"\n",
              "              title=\"Convert this dataframe to an interactive table.\"\n",
              "              style=\"display:none;\">\n",
              "        \n",
              "  <svg xmlns=\"http://www.w3.org/2000/svg\" height=\"24px\"viewBox=\"0 0 24 24\"\n",
              "       width=\"24px\">\n",
              "    <path d=\"M0 0h24v24H0V0z\" fill=\"none\"/>\n",
              "    <path d=\"M18.56 5.44l.94 2.06.94-2.06 2.06-.94-2.06-.94-.94-2.06-.94 2.06-2.06.94zm-11 1L8.5 8.5l.94-2.06 2.06-.94-2.06-.94L8.5 2.5l-.94 2.06-2.06.94zm10 10l.94 2.06.94-2.06 2.06-.94-2.06-.94-.94-2.06-.94 2.06-2.06.94z\"/><path d=\"M17.41 7.96l-1.37-1.37c-.4-.4-.92-.59-1.43-.59-.52 0-1.04.2-1.43.59L10.3 9.45l-7.72 7.72c-.78.78-.78 2.05 0 2.83L4 21.41c.39.39.9.59 1.41.59.51 0 1.02-.2 1.41-.59l7.78-7.78 2.81-2.81c.8-.78.8-2.07 0-2.86zM5.41 20L4 18.59l7.72-7.72 1.47 1.35L5.41 20z\"/>\n",
              "  </svg>\n",
              "      </button>\n",
              "      \n",
              "  <style>\n",
              "    .colab-df-container {\n",
              "      display:flex;\n",
              "      flex-wrap:wrap;\n",
              "      gap: 12px;\n",
              "    }\n",
              "\n",
              "    .colab-df-convert {\n",
              "      background-color: #E8F0FE;\n",
              "      border: none;\n",
              "      border-radius: 50%;\n",
              "      cursor: pointer;\n",
              "      display: none;\n",
              "      fill: #1967D2;\n",
              "      height: 32px;\n",
              "      padding: 0 0 0 0;\n",
              "      width: 32px;\n",
              "    }\n",
              "\n",
              "    .colab-df-convert:hover {\n",
              "      background-color: #E2EBFA;\n",
              "      box-shadow: 0px 1px 2px rgba(60, 64, 67, 0.3), 0px 1px 3px 1px rgba(60, 64, 67, 0.15);\n",
              "      fill: #174EA6;\n",
              "    }\n",
              "\n",
              "    [theme=dark] .colab-df-convert {\n",
              "      background-color: #3B4455;\n",
              "      fill: #D2E3FC;\n",
              "    }\n",
              "\n",
              "    [theme=dark] .colab-df-convert:hover {\n",
              "      background-color: #434B5C;\n",
              "      box-shadow: 0px 1px 3px 1px rgba(0, 0, 0, 0.15);\n",
              "      filter: drop-shadow(0px 1px 2px rgba(0, 0, 0, 0.3));\n",
              "      fill: #FFFFFF;\n",
              "    }\n",
              "  </style>\n",
              "\n",
              "      <script>\n",
              "        const buttonEl =\n",
              "          document.querySelector('#df-6e19bcb9-360b-4b0d-8eaf-b6c9985f901e button.colab-df-convert');\n",
              "        buttonEl.style.display =\n",
              "          google.colab.kernel.accessAllowed ? 'block' : 'none';\n",
              "\n",
              "        async function convertToInteractive(key) {\n",
              "          const element = document.querySelector('#df-6e19bcb9-360b-4b0d-8eaf-b6c9985f901e');\n",
              "          const dataTable =\n",
              "            await google.colab.kernel.invokeFunction('convertToInteractive',\n",
              "                                                     [key], {});\n",
              "          if (!dataTable) return;\n",
              "\n",
              "          const docLinkHtml = 'Like what you see? Visit the ' +\n",
              "            '<a target=\"_blank\" href=https://colab.research.google.com/notebooks/data_table.ipynb>data table notebook</a>'\n",
              "            + ' to learn more about interactive tables.';\n",
              "          element.innerHTML = '';\n",
              "          dataTable['output_type'] = 'display_data';\n",
              "          await google.colab.output.renderOutput(dataTable, element);\n",
              "          const docLink = document.createElement('div');\n",
              "          docLink.innerHTML = docLinkHtml;\n",
              "          element.appendChild(docLink);\n",
              "        }\n",
              "      </script>\n",
              "    </div>\n",
              "  </div>\n",
              "  "
            ],
            "application/vnd.google.colaboratory.module+javascript": "\n      import \"https://ssl.gstatic.com/colaboratory/data_table/a8bd4d5e58f96183/data_table.js\";\n\n      window.createDataTable({\n        data: [[\"2021-04-01 00:00:00\",\n{\n            'v': 56,\n            'f': \"56\",\n        }],\n [\"2021-05-01 00:00:00\",\n{\n            'v': 99,\n            'f': \"99\",\n        }],\n [\"2021-06-01 00:00:00\",\n{\n            'v': 87,\n            'f': \"87\",\n        }],\n [\"2021-07-01 00:00:00\",\n{\n            'v': 100,\n            'f': \"100\",\n        }],\n [\"2021-08-01 00:00:00\",\n{\n            'v': 106,\n            'f': \"106\",\n        }]],\n        columns: [[\"string\", \"Month\"], [\"number\", \"Attrition\"]],\n        columnOptions: [{\"width\": \"1px\", \"className\": \"index_column\"}],\n        rowsPerPage: 25,\n        helpUrl: \"https://colab.research.google.com/notebooks/data_table.ipynb\",\n        suppressOutputScrolling: true,\n        minimumWidth: undefined,\n      });\n    "
          },
          "metadata": {},
          "execution_count": 37
        }
      ]
    },
    {
      "cell_type": "code",
      "source": [
        "# Checking the trend\n",
        "\n",
        "df.plot()"
      ],
      "metadata": {
        "colab": {
          "base_uri": "https://localhost:8080/",
          "height": 309
        },
        "id": "kNB_xBMkQGLX",
        "outputId": "c91a5dea-551d-4407-dd56-f2eaf3f9a9ac"
      },
      "execution_count": null,
      "outputs": [
        {
          "output_type": "execute_result",
          "data": {
            "text/plain": [
              "<matplotlib.axes._subplots.AxesSubplot at 0x7f0ebf5c11d0>"
            ]
          },
          "metadata": {},
          "execution_count": 38
        },
        {
          "output_type": "display_data",
          "data": {
            "text/plain": [
              "<Figure size 432x288 with 1 Axes>"
            ],
            "image/png": "[encoded data removed]"
          },
          "metadata": {
            "needs_background": "light"
          }
        }
      ]
    },
    {
      "cell_type": "code",
      "source": [
        "# Testing For Stationarity using Dickey-Fuller Test\n",
        "\n",
        "from statsmodels.tsa.stattools import adfuller"
      ],
      "metadata": {
        "id": "kJXzbPW3QMGg"
      },
      "execution_count": null,
      "outputs": []
    },
    {
      "cell_type": "code",
      "source": [
        "test_result=adfuller(df['Attrition'])"
      ],
      "metadata": {
        "id": "ho8Lm-iXQQIA"
      },
      "execution_count": null,
      "outputs": []
    },
    {
      "cell_type": "code",
      "source": [
        "#Ho: It is non stationary\n",
        "#H1: It is stationary\n",
        "\n",
        "def adfuller_test(attr):\n",
        "    result=adfuller(attr)\n",
        "    labels = ['ADF Test Statistic','p-value','#Lags Used','Number of Observations Used']\n",
        "    for value,label in zip(result,labels):\n",
        "        print(label+' : '+str(value) )\n",
        "    if result[1] <= 0.05:\n",
        "        print(\"strong evidence against the null hypothesis(Ho), reject the null hypothesis. Data has no unit root and is stationary\")\n",
        "    else:\n",
        "        print(\"weak evidence against null hypothesis, time series has a unit root, indicating it is non-stationary \")\n",
        "    "
      ],
      "metadata": {
        "id": "dBr8WdmZQh3X"
      },
      "execution_count": null,
      "outputs": []
    },
    {
      "cell_type": "code",
      "source": [
        "# Dickey-Fuller Test on Attrition numbers\n",
        "\n",
        "adfuller_test(df['Attrition'])"
      ],
      "metadata": {
        "colab": {
          "base_uri": "https://localhost:8080/"
        },
        "id": "fNqwwG8pQvy2",
        "outputId": "c3f6333c-4e66-47d8-8e49-d36bf3e73a32"
      },
      "execution_count": null,
      "outputs": [
        {
          "output_type": "stream",
          "name": "stdout",
          "text": [
            "ADF Test Statistic : -2.9531683637134165\n",
            "p-value : 0.039505415853632445\n",
            "#Lags Used : 0\n",
            "Number of Observations Used : 11\n",
            "strong evidence against the null hypothesis(Ho), reject the null hypothesis. Data has no unit root and is stationary\n"
          ]
        }
      ]
    },
    {
      "cell_type": "code",
      "source": [
        "# Taking the difference shifitng by one month\n",
        "\n",
        "df['Attr 1 Difference'] = df['Attrition'] - df['Attrition'].shift(1)"
      ],
      "metadata": {
        "id": "VFgpzbF2YNt2"
      },
      "execution_count": null,
      "outputs": []
    },
    {
      "cell_type": "code",
      "source": [
        "df['Attrition'].shift(1)"
      ],
      "metadata": {
        "colab": {
          "base_uri": "https://localhost:8080/"
        },
        "id": "2iro3_LGYi-v",
        "outputId": "981340dd-065a-4604-dae3-3dd66fcc8429"
      },
      "execution_count": null,
      "outputs": [
        {
          "output_type": "execute_result",
          "data": {
            "text/plain": [
              "Month\n",
              "2021-04-01      NaN\n",
              "2021-05-01     56.0\n",
              "2021-06-01     99.0\n",
              "2021-07-01     87.0\n",
              "2021-08-01    100.0\n",
              "2021-09-01    106.0\n",
              "2021-10-01     95.0\n",
              "2021-11-01     85.0\n",
              "2021-12-01    125.0\n",
              "2022-01-01    125.0\n",
              "2022-02-01    137.0\n",
              "2022-03-01    116.0\n",
              "Name: Attrition, dtype: float64"
            ]
          },
          "metadata": {},
          "execution_count": 44
        }
      ]
    },
    {
      "cell_type": "code",
      "source": [
        "# Taking the difference shifitng by 3 months\n",
        "\n",
        "df['Seasonal First Difference']=df['Attrition']-df['Attrition'].shift(3)"
      ],
      "metadata": {
        "id": "7CZfjZZPZBVJ"
      },
      "execution_count": null,
      "outputs": []
    },
    {
      "cell_type": "code",
      "source": [
        "df.head(12)"
      ],
      "metadata": {
        "colab": {
          "base_uri": "https://localhost:8080/",
          "height": 348
        },
        "id": "CyTZ3lH7ZNy4",
        "outputId": "d78e59a2-768a-4347-f88b-76e55d90050a"
      },
      "execution_count": null,
      "outputs": [
        {
          "output_type": "execute_result",
          "data": {
            "text/plain": [
              "            Attrition  Attr 1 Difference  Seasonal First Difference\n",
              "Month                                                              \n",
              "2021-04-01         56                NaN                        NaN\n",
              "2021-05-01         99               43.0                        NaN\n",
              "2021-06-01         87              -12.0                        NaN\n",
              "2021-07-01        100               13.0                       44.0\n",
              "2021-08-01        106                6.0                        7.0\n",
              "2021-09-01         95              -11.0                        8.0\n",
              "2021-10-01         85              -10.0                      -15.0\n",
              "2021-11-01        125               40.0                       19.0\n",
              "2021-12-01        125                0.0                       30.0\n",
              "2022-01-01        137               12.0                       52.0\n",
              "2022-02-01        116              -21.0                       -9.0\n",
              "2022-03-01        117                1.0                       -8.0"
            ],
            "text/html": [
              "\n",
              "  <div id=\"df-45ebe4cf-f28d-463e-84b0-ceac44a4843a\">\n",
              "    <div class=\"colab-df-container\">\n",
              "      <div>\n",
              "<style scoped>\n",
              "    .dataframe tbody tr th:only-of-type {\n",
              "        vertical-align: middle;\n",
              "    }\n",
              "\n",
              "    .dataframe tbody tr th {\n",
              "        vertical-align: top;\n",
              "    }\n",
              "\n",
              "    .dataframe thead th {\n",
              "        text-align: right;\n",
              "    }\n",
              "</style>\n",
              "<table border=\"1\" class=\"dataframe\">\n",
              "  <thead>\n",
              "    <tr style=\"text-align: right;\">\n",
              "      <th></th>\n",
              "      <th>Attrition</th>\n",
              "      <th>Attr 1 Difference</th>\n",
              "      <th>Seasonal First Difference</th>\n",
              "    </tr>\n",
              "    <tr>\n",
              "      <th>Month</th>\n",
              "      <th></th>\n",
              "      <th></th>\n",
              "      <th></th>\n",
              "    </tr>\n",
              "  </thead>\n",
              "  <tbody>\n",
              "    <tr>\n",
              "      <th>2021-04-01</th>\n",
              "      <td>56</td>\n",
              "      <td>NaN</td>\n",
              "      <td>NaN</td>\n",
              "    </tr>\n",
              "    <tr>\n",
              "      <th>2021-05-01</th>\n",
              "      <td>99</td>\n",
              "      <td>43.0</td>\n",
              "      <td>NaN</td>\n",
              "    </tr>\n",
              "    <tr>\n",
              "      <th>2021-06-01</th>\n",
              "      <td>87</td>\n",
              "      <td>-12.0</td>\n",
              "      <td>NaN</td>\n",
              "    </tr>\n",
              "    <tr>\n",
              "      <th>2021-07-01</th>\n",
              "      <td>100</td>\n",
              "      <td>13.0</td>\n",
              "      <td>44.0</td>\n",
              "    </tr>\n",
              "    <tr>\n",
              "      <th>2021-08-01</th>\n",
              "      <td>106</td>\n",
              "      <td>6.0</td>\n",
              "      <td>7.0</td>\n",
              "    </tr>\n",
              "    <tr>\n",
              "      <th>2021-09-01</th>\n",
              "      <td>95</td>\n",
              "      <td>-11.0</td>\n",
              "      <td>8.0</td>\n",
              "    </tr>\n",
              "    <tr>\n",
              "      <th>2021-10-01</th>\n",
              "      <td>85</td>\n",
              "      <td>-10.0</td>\n",
              "      <td>-15.0</td>\n",
              "    </tr>\n",
              "    <tr>\n",
              "      <th>2021-11-01</th>\n",
              "      <td>125</td>\n",
              "      <td>40.0</td>\n",
              "      <td>19.0</td>\n",
              "    </tr>\n",
              "    <tr>\n",
              "      <th>2021-12-01</th>\n",
              "      <td>125</td>\n",
              "      <td>0.0</td>\n",
              "      <td>30.0</td>\n",
              "    </tr>\n",
              "    <tr>\n",
              "      <th>2022-01-01</th>\n",
              "      <td>137</td>\n",
              "      <td>12.0</td>\n",
              "      <td>52.0</td>\n",
              "    </tr>\n",
              "    <tr>\n",
              "      <th>2022-02-01</th>\n",
              "      <td>116</td>\n",
              "      <td>-21.0</td>\n",
              "      <td>-9.0</td>\n",
              "    </tr>\n",
              "    <tr>\n",
              "      <th>2022-03-01</th>\n",
              "      <td>117</td>\n",
              "      <td>1.0</td>\n",
              "      <td>-8.0</td>\n",
              "    </tr>\n",
              "  </tbody>\n",
              "</table>\n",
              "</div>\n",
              "      <button class=\"colab-df-convert\" onclick=\"convertToInteractive('df-45ebe4cf-f28d-463e-84b0-ceac44a4843a')\"\n",
              "              title=\"Convert this dataframe to an interactive table.\"\n",
              "              style=\"display:none;\">\n",
              "        \n",
              "  <svg xmlns=\"http://www.w3.org/2000/svg\" height=\"24px\"viewBox=\"0 0 24 24\"\n",
              "       width=\"24px\">\n",
              "    <path d=\"M0 0h24v24H0V0z\" fill=\"none\"/>\n",
              "    <path d=\"M18.56 5.44l.94 2.06.94-2.06 2.06-.94-2.06-.94-.94-2.06-.94 2.06-2.06.94zm-11 1L8.5 8.5l.94-2.06 2.06-.94-2.06-.94L8.5 2.5l-.94 2.06-2.06.94zm10 10l.94 2.06.94-2.06 2.06-.94-2.06-.94-.94-2.06-.94 2.06-2.06.94z\"/><path d=\"M17.41 7.96l-1.37-1.37c-.4-.4-.92-.59-1.43-.59-.52 0-1.04.2-1.43.59L10.3 9.45l-7.72 7.72c-.78.78-.78 2.05 0 2.83L4 21.41c.39.39.9.59 1.41.59.51 0 1.02-.2 1.41-.59l7.78-7.78 2.81-2.81c.8-.78.8-2.07 0-2.86zM5.41 20L4 18.59l7.72-7.72 1.47 1.35L5.41 20z\"/>\n",
              "  </svg>\n",
              "      </button>\n",
              "      \n",
              "  <style>\n",
              "    .colab-df-container {\n",
              "      display:flex;\n",
              "      flex-wrap:wrap;\n",
              "      gap: 12px;\n",
              "    }\n",
              "\n",
              "    .colab-df-convert {\n",
              "      background-color: #E8F0FE;\n",
              "      border: none;\n",
              "      border-radius: 50%;\n",
              "      cursor: pointer;\n",
              "      display: none;\n",
              "      fill: #1967D2;\n",
              "      height: 32px;\n",
              "      padding: 0 0 0 0;\n",
              "      width: 32px;\n",
              "    }\n",
              "\n",
              "    .colab-df-convert:hover {\n",
              "      background-color: #E2EBFA;\n",
              "      box-shadow: 0px 1px 2px rgba(60, 64, 67, 0.3), 0px 1px 3px 1px rgba(60, 64, 67, 0.15);\n",
              "      fill: #174EA6;\n",
              "    }\n",
              "\n",
              "    [theme=dark] .colab-df-convert {\n",
              "      background-color: #3B4455;\n",
              "      fill: #D2E3FC;\n",
              "    }\n",
              "\n",
              "    [theme=dark] .colab-df-convert:hover {\n",
              "      background-color: #434B5C;\n",
              "      box-shadow: 0px 1px 3px 1px rgba(0, 0, 0, 0.15);\n",
              "      filter: drop-shadow(0px 1px 2px rgba(0, 0, 0, 0.3));\n",
              "      fill: #FFFFFF;\n",
              "    }\n",
              "  </style>\n",
              "\n",
              "      <script>\n",
              "        const buttonEl =\n",
              "          document.querySelector('#df-45ebe4cf-f28d-463e-84b0-ceac44a4843a button.colab-df-convert');\n",
              "        buttonEl.style.display =\n",
              "          google.colab.kernel.accessAllowed ? 'block' : 'none';\n",
              "\n",
              "        async function convertToInteractive(key) {\n",
              "          const element = document.querySelector('#df-45ebe4cf-f28d-463e-84b0-ceac44a4843a');\n",
              "          const dataTable =\n",
              "            await google.colab.kernel.invokeFunction('convertToInteractive',\n",
              "                                                     [key], {});\n",
              "          if (!dataTable) return;\n",
              "\n",
              "          const docLinkHtml = 'Like what you see? Visit the ' +\n",
              "            '<a target=\"_blank\" href=https://colab.research.google.com/notebooks/data_table.ipynb>data table notebook</a>'\n",
              "            + ' to learn more about interactive tables.';\n",
              "          element.innerHTML = '';\n",
              "          dataTable['output_type'] = 'display_data';\n",
              "          await google.colab.output.renderOutput(dataTable, element);\n",
              "          const docLink = document.createElement('div');\n",
              "          docLink.innerHTML = docLinkHtml;\n",
              "          element.appendChild(docLink);\n",
              "        }\n",
              "      </script>\n",
              "    </div>\n",
              "  </div>\n",
              "  "
            ],
            "application/vnd.google.colaboratory.module+javascript": "\n      import \"https://ssl.gstatic.com/colaboratory/data_table/a8bd4d5e58f96183/data_table.js\";\n\n      window.createDataTable({\n        data: [[\"2021-04-01 00:00:00\",\n{\n            'v': 56,\n            'f': \"56\",\n        },\n{\n            'v': NaN,\n            'f': \"NaN\",\n        },\n{\n            'v': NaN,\n            'f': \"NaN\",\n        }],\n [\"2021-05-01 00:00:00\",\n{\n            'v': 99,\n            'f': \"99\",\n        },\n{\n            'v': 43.0,\n            'f': \"43.0\",\n        },\n{\n            'v': NaN,\n            'f': \"NaN\",\n        }],\n [\"2021-06-01 00:00:00\",\n{\n            'v': 87,\n            'f': \"87\",\n        },\n{\n            'v': -12.0,\n            'f': \"-12.0\",\n        },\n{\n            'v': NaN,\n            'f': \"NaN\",\n        }],\n [\"2021-07-01 00:00:00\",\n{\n            'v': 100,\n            'f': \"100\",\n        },\n{\n            'v': 13.0,\n            'f': \"13.0\",\n        },\n{\n            'v': 44.0,\n            'f': \"44.0\",\n        }],\n [\"2021-08-01 00:00:00\",\n{\n            'v': 106,\n            'f': \"106\",\n        },\n{\n            'v': 6.0,\n            'f': \"6.0\",\n        },\n{\n            'v': 7.0,\n            'f': \"7.0\",\n        }],\n [\"2021-09-01 00:00:00\",\n{\n            'v': 95,\n            'f': \"95\",\n        },\n{\n            'v': -11.0,\n            'f': \"-11.0\",\n        },\n{\n            'v': 8.0,\n            'f': \"8.0\",\n        }],\n [\"2021-10-01 00:00:00\",\n{\n            'v': 85,\n            'f': \"85\",\n        },\n{\n            'v': -10.0,\n            'f': \"-10.0\",\n        },\n{\n            'v': -15.0,\n            'f': \"-15.0\",\n        }],\n [\"2021-11-01 00:00:00\",\n{\n            'v': 125,\n            'f': \"125\",\n        },\n{\n            'v': 40.0,\n            'f': \"40.0\",\n        },\n{\n            'v': 19.0,\n            'f': \"19.0\",\n        }],\n [\"2021-12-01 00:00:00\",\n{\n            'v': 125,\n            'f': \"125\",\n        },\n{\n            'v': 0.0,\n            'f': \"0.0\",\n        },\n{\n            'v': 30.0,\n            'f': \"30.0\",\n        }],\n [\"2022-01-01 00:00:00\",\n{\n            'v': 137,\n            'f': \"137\",\n        },\n{\n            'v': 12.0,\n            'f': \"12.0\",\n        },\n{\n            'v': 52.0,\n            'f': \"52.0\",\n        }],\n [\"2022-02-01 00:00:00\",\n{\n            'v': 116,\n            'f': \"116\",\n        },\n{\n            'v': -21.0,\n            'f': \"-21.0\",\n        },\n{\n            'v': -9.0,\n            'f': \"-9.0\",\n        }],\n [\"2022-03-01 00:00:00\",\n{\n            'v': 117,\n            'f': \"117\",\n        },\n{\n            'v': 1.0,\n            'f': \"1.0\",\n        },\n{\n            'v': -8.0,\n            'f': \"-8.0\",\n        }]],\n        columns: [[\"string\", \"Month\"], [\"number\", \"Attrition\"], [\"number\", \"Attr 1 Difference\"], [\"number\", \"Seasonal First Difference\"]],\n        columnOptions: [{\"width\": \"1px\", \"className\": \"index_column\"}],\n        rowsPerPage: 25,\n        helpUrl: \"https://colab.research.google.com/notebooks/data_table.ipynb\",\n        suppressOutputScrolling: true,\n        minimumWidth: undefined,\n      });\n    "
          },
          "metadata": {},
          "execution_count": 46
        }
      ]
    },
    {
      "cell_type": "code",
      "source": [
        "# Again dickey fuller test to see if the data is stationary\n",
        " \n",
        "adfuller_test(df['Seasonal First Difference'].dropna())"
      ],
      "metadata": {
        "colab": {
          "base_uri": "https://localhost:8080/"
        },
        "id": "jco7Yx7yZcaM",
        "outputId": "abf86db8-6a30-4259-c36b-ad0c9d210e66"
      },
      "execution_count": null,
      "outputs": [
        {
          "output_type": "stream",
          "name": "stdout",
          "text": [
            "ADF Test Statistic : -6.912355729194308\n",
            "p-value : 1.2033353100590796e-09\n",
            "#Lags Used : 2\n",
            "Number of Observations Used : 6\n",
            "strong evidence against the null hypothesis(Ho), reject the null hypothesis. Data has no unit root and is stationary\n"
          ]
        }
      ]
    },
    {
      "cell_type": "code",
      "source": [
        "df['Seasonal First Difference'].plot()"
      ],
      "metadata": {
        "colab": {
          "base_uri": "https://localhost:8080/",
          "height": 308
        },
        "id": "AMRjy3lhZmbx",
        "outputId": "08c332e7-356e-447b-db7c-ba5c6a2ef04f"
      },
      "execution_count": null,
      "outputs": [
        {
          "output_type": "execute_result",
          "data": {
            "text/plain": [
              "<matplotlib.axes._subplots.AxesSubplot at 0x7f0ebc5168d0>"
            ]
          },
          "metadata": {},
          "execution_count": 48
        },
        {
          "output_type": "display_data",
          "data": {
            "text/plain": [
              "<Figure size 432x288 with 1 Axes>"
            ],
            "image/png": "[encoded data removed]"
          },
          "metadata": {
            "needs_background": "light"
          }
        }
      ]
    },
    {
      "cell_type": "code",
      "source": [
        "# importing libraries to check auto-correlation\n",
        "\n",
        "from pandas.plotting import autocorrelation_plot\n",
        "autocorrelation_plot(df['Attrition'])\n",
        "plt.show()"
      ],
      "metadata": {
        "colab": {
          "base_uri": "https://localhost:8080/",
          "height": 283
        },
        "id": "TeACdFyfQ-lo",
        "outputId": "9404c513-c1d7-4029-f730-199da7d79bdc"
      },
      "execution_count": null,
      "outputs": [
        {
          "output_type": "display_data",
          "data": {
            "text/plain": [
              "<Figure size 432x288 with 1 Axes>"
            ],
            "image/png": "[encoded data removed]"
          },
          "metadata": {
            "needs_background": "light"
          }
        }
      ]
    },
    {
      "cell_type": "code",
      "source": [
        "# For non-seasonal data\n",
        "\n",
        "from statsmodels.tsa.arima.model import ARIMA"
      ],
      "metadata": {
        "id": "UJXsn9PeSsCQ"
      },
      "execution_count": null,
      "outputs": []
    },
    {
      "cell_type": "code",
      "source": [
        "from statsmodels.graphics.tsaplots import plot_acf,plot_pacf\n",
        "import statsmodels.api as sm"
      ],
      "metadata": {
        "id": "U18931CqXV5s"
      },
      "execution_count": null,
      "outputs": []
    },
    {
      "cell_type": "code",
      "source": [
        "fig = plt.figure(figsize=(12,8))\n",
        "ax1 = fig.add_subplot(211)\n",
        "fig = sm.graphics.tsa.plot_acf(df['Attrition'],lags=3,ax=ax1)\n",
        "ax2 = fig.add_subplot(212)\n",
        "fig = sm.graphics.tsa.plot_pacf(df['Attrition'],lags=3,ax=ax2)"
      ],
      "metadata": {
        "colab": {
          "base_uri": "https://localhost:8080/",
          "height": 499
        },
        "id": "DZ604Lb1Xaza",
        "outputId": "010de8bc-95c5-4734-cdbe-2e71ffcf03e2"
      },
      "execution_count": null,
      "outputs": [
        {
          "output_type": "display_data",
          "data": {
            "text/plain": [
              "<Figure size 864x576 with 2 Axes>"
            ],
            "image/png": "[encoded data removed]"
          },
          "metadata": {
            "needs_background": "light"
          }
        }
      ]
    },
    {
      "cell_type": "code",
      "source": [
        "# installing pmdarima for auto-arima\n",
        "\n",
        "!pip install pmdarima\n"
      ],
      "metadata": {
        "colab": {
          "base_uri": "https://localhost:8080/"
        },
        "id": "tVqw4pgYc136",
        "outputId": "1af971db-b382-4ac6-f3fb-0cbf4f963193"
      },
      "execution_count": null,
      "outputs": [
        {
          "output_type": "stream",
          "name": "stdout",
          "text": [
            "Looking in indexes: https://pypi.org/simple, https://us-python.pkg.dev/colab-wheels/public/simple/\n",
            "Requirement already satisfied: pmdarima in /usr/local/lib/python3.7/dist-packages (2.0.1)\n",
            "Requirement already satisfied: statsmodels>=0.13.2 in /usr/local/lib/python3.7/dist-packages (from pmdarima) (0.13.2)\n",
            "Requirement already satisfied: scikit-learn>=0.22 in /usr/local/lib/python3.7/dist-packages (from pmdarima) (1.0.2)\n",
            "Requirement already satisfied: numpy>=1.21 in /usr/local/lib/python3.7/dist-packages (from pmdarima) (1.21.6)\n",
            "Requirement already satisfied: pandas>=0.19 in /usr/local/lib/python3.7/dist-packages (from pmdarima) (1.3.5)\n",
            "Requirement already satisfied: setuptools!=50.0.0,>=38.6.0 in /usr/local/lib/python3.7/dist-packages (from pmdarima) (57.4.0)\n",
            "Requirement already satisfied: Cython!=0.29.18,!=0.29.31,>=0.29 in /usr/local/lib/python3.7/dist-packages (from pmdarima) (0.29.32)\n",
            "Requirement already satisfied: scipy>=1.3.2 in /usr/local/lib/python3.7/dist-packages (from pmdarima) (1.7.3)\n",
            "Requirement already satisfied: urllib3 in /usr/local/lib/python3.7/dist-packages (from pmdarima) (1.24.3)\n",
            "Requirement already satisfied: joblib>=0.11 in /usr/local/lib/python3.7/dist-packages (from pmdarima) (1.1.0)\n",
            "Requirement already satisfied: pytz>=2017.3 in /usr/local/lib/python3.7/dist-packages (from pandas>=0.19->pmdarima) (2022.2.1)\n",
            "Requirement already satisfied: python-dateutil>=2.7.3 in /usr/local/lib/python3.7/dist-packages (from pandas>=0.19->pmdarima) (2.8.2)\n",
            "Requirement already satisfied: six>=1.5 in /usr/local/lib/python3.7/dist-packages (from python-dateutil>=2.7.3->pandas>=0.19->pmdarima) (1.15.0)\n",
            "Requirement already satisfied: threadpoolctl>=2.0.0 in /usr/local/lib/python3.7/dist-packages (from scikit-learn>=0.22->pmdarima) (3.1.0)\n",
            "Requirement already satisfied: packaging>=21.3 in /usr/local/lib/python3.7/dist-packages (from statsmodels>=0.13.2->pmdarima) (21.3)\n",
            "Requirement already satisfied: patsy>=0.5.2 in /usr/local/lib/python3.7/dist-packages (from statsmodels>=0.13.2->pmdarima) (0.5.2)\n",
            "Requirement already satisfied: pyparsing!=3.0.5,>=2.0.2 in /usr/local/lib/python3.7/dist-packages (from packaging>=21.3->statsmodels>=0.13.2->pmdarima) (3.0.9)\n"
          ]
        }
      ]
    },
    {
      "cell_type": "code",
      "source": [
        "# identifying the best ARIMA order for p,d,q\n",
        "\n",
        "from pmdarima import auto_arima\n",
        "import warnings\n",
        "warnings.filterwarnings(\"ignore\")\n",
        "sf = auto_arima(df['Attrition'], trace = True, supress_warning = True )"
      ],
      "metadata": {
        "colab": {
          "base_uri": "https://localhost:8080/"
        },
        "id": "3AQAsCI8ePg_",
        "outputId": "bf2f2e85-c229-47be-e6fb-66c44b3ee38f"
      },
      "execution_count": null,
      "outputs": [
        {
          "output_type": "stream",
          "name": "stdout",
          "text": [
            "Performing stepwise search to minimize aic\n",
            " ARIMA(2,0,2)(0,0,0)[0] intercept   : AIC=inf, Time=0.29 sec\n",
            " ARIMA(0,0,0)(0,0,0)[0] intercept   : AIC=111.285, Time=0.02 sec\n",
            " ARIMA(1,0,0)(0,0,0)[0] intercept   : AIC=110.725, Time=0.07 sec\n",
            " ARIMA(0,0,1)(0,0,0)[0] intercept   : AIC=111.914, Time=0.11 sec\n",
            " ARIMA(0,0,0)(0,0,0)[0]             : AIC=148.006, Time=0.02 sec\n",
            " ARIMA(2,0,0)(0,0,0)[0] intercept   : AIC=112.239, Time=0.11 sec\n",
            " ARIMA(1,0,1)(0,0,0)[0] intercept   : AIC=112.432, Time=0.18 sec\n",
            " ARIMA(2,0,1)(0,0,0)[0] intercept   : AIC=inf, Time=0.17 sec\n",
            " ARIMA(1,0,0)(0,0,0)[0]             : AIC=113.409, Time=0.04 sec\n",
            "\n",
            "Best model:  ARIMA(1,0,0)(0,0,0)[0] intercept\n",
            "Total fit time: 1.025 seconds\n"
          ]
        }
      ]
    },
    {
      "cell_type": "code",
      "source": [
        "# ARIMA Model creation\n",
        "\n",
        "model=ARIMA(df['Attrition'],order=(1,0,0))\n",
        "model_fit=model.fit()"
      ],
      "metadata": {
        "id": "OcOLhdoGSv9u"
      },
      "execution_count": null,
      "outputs": []
    },
    {
      "cell_type": "code",
      "source": [
        "# ARIMA Model summary\n",
        "\n",
        "model_fit.summary()"
      ],
      "metadata": {
        "colab": {
          "base_uri": "https://localhost:8080/",
          "height": 430
        },
        "id": "U9eqUxK4Sv_B",
        "outputId": "3a7a30af-760b-4a87-a3b0-102d2de681c4"
      },
      "execution_count": null,
      "outputs": [
        {
          "output_type": "execute_result",
          "data": {
            "text/plain": [
              "<class 'statsmodels.iolib.summary.Summary'>\n",
              "\"\"\"\n",
              "                               SARIMAX Results                                \n",
              "==============================================================================\n",
              "Dep. Variable:              Attrition   No. Observations:                   12\n",
              "Model:                 ARIMA(1, 0, 0)   Log Likelihood                 -52.363\n",
              "Date:                Wed, 24 Aug 2022   AIC                            110.725\n",
              "Time:                        10:54:46   BIC                            112.180\n",
              "Sample:                    04-01-2021   HQIC                           110.187\n",
              "                         - 03-01-2022                                         \n",
              "Covariance Type:                  opg                                         \n",
              "==============================================================================\n",
              "                 coef    std err          z      P>|z|      [0.025      0.975]\n",
              "------------------------------------------------------------------------------\n",
              "const        101.0481     11.663      8.664      0.000      78.190     123.906\n",
              "ar.L1          0.5491      0.283      1.942      0.052      -0.005       1.103\n",
              "sigma2       350.5038    171.181      2.048      0.041      14.996     686.012\n",
              "===================================================================================\n",
              "Ljung-Box (L1) (Q):                   1.45   Jarque-Bera (JB):                 0.35\n",
              "Prob(Q):                              0.23   Prob(JB):                         0.84\n",
              "Heteroskedasticity (H):               0.34   Skew:                            -0.40\n",
              "Prob(H) (two-sided):                  0.32   Kurtosis:                         2.78\n",
              "===================================================================================\n",
              "\n",
              "Warnings:\n",
              "[1] Covariance matrix calculated using the outer product of gradients (complex-step).\n",
              "\"\"\""
            ],
            "text/html": [
              "<table class=\"simpletable\">\n",
              "<caption>SARIMAX Results</caption>\n",
              "<tr>\n",
              "  <th>Dep. Variable:</th>       <td>Attrition</td>    <th>  No. Observations:  </th>   <td>12</td>   \n",
              "</tr>\n",
              "<tr>\n",
              "  <th>Model:</th>            <td>ARIMA(1, 0, 0)</td>  <th>  Log Likelihood     </th> <td>-52.363</td>\n",
              "</tr>\n",
              "<tr>\n",
              "  <th>Date:</th>            <td>Wed, 24 Aug 2022</td> <th>  AIC                </th> <td>110.725</td>\n",
              "</tr>\n",
              "<tr>\n",
              "  <th>Time:</th>                <td>10:54:46</td>     <th>  BIC                </th> <td>112.180</td>\n",
              "</tr>\n",
              "<tr>\n",
              "  <th>Sample:</th>             <td>04-01-2021</td>    <th>  HQIC               </th> <td>110.187</td>\n",
              "</tr>\n",
              "<tr>\n",
              "  <th></th>                   <td>- 03-01-2022</td>   <th>                     </th>    <td> </td>   \n",
              "</tr>\n",
              "<tr>\n",
              "  <th>Covariance Type:</th>        <td>opg</td>       <th>                     </th>    <td> </td>   \n",
              "</tr>\n",
              "</table>\n",
              "<table class=\"simpletable\">\n",
              "<tr>\n",
              "     <td></td>       <th>coef</th>     <th>std err</th>      <th>z</th>      <th>P>|z|</th>  <th>[0.025</th>    <th>0.975]</th>  \n",
              "</tr>\n",
              "<tr>\n",
              "  <th>const</th>  <td>  101.0481</td> <td>   11.663</td> <td>    8.664</td> <td> 0.000</td> <td>   78.190</td> <td>  123.906</td>\n",
              "</tr>\n",
              "<tr>\n",
              "  <th>ar.L1</th>  <td>    0.5491</td> <td>    0.283</td> <td>    1.942</td> <td> 0.052</td> <td>   -0.005</td> <td>    1.103</td>\n",
              "</tr>\n",
              "<tr>\n",
              "  <th>sigma2</th> <td>  350.5038</td> <td>  171.181</td> <td>    2.048</td> <td> 0.041</td> <td>   14.996</td> <td>  686.012</td>\n",
              "</tr>\n",
              "</table>\n",
              "<table class=\"simpletable\">\n",
              "<tr>\n",
              "  <th>Ljung-Box (L1) (Q):</th>     <td>1.45</td> <th>  Jarque-Bera (JB):  </th> <td>0.35</td> \n",
              "</tr>\n",
              "<tr>\n",
              "  <th>Prob(Q):</th>                <td>0.23</td> <th>  Prob(JB):          </th> <td>0.84</td> \n",
              "</tr>\n",
              "<tr>\n",
              "  <th>Heteroskedasticity (H):</th> <td>0.34</td> <th>  Skew:              </th> <td>-0.40</td>\n",
              "</tr>\n",
              "<tr>\n",
              "  <th>Prob(H) (two-sided):</th>    <td>0.32</td> <th>  Kurtosis:          </th> <td>2.78</td> \n",
              "</tr>\n",
              "</table><br/><br/>Warnings:<br/>[1] Covariance matrix calculated using the outer product of gradients (complex-step)."
            ]
          },
          "metadata": {},
          "execution_count": 56
        }
      ]
    },
    {
      "cell_type": "code",
      "source": [
        "# prediction using ARIMA model\n",
        "\n",
        "df['forecast']=model_fit.predict(start=1,end=15,dynamic=True)\n",
        "df[['Attrition','forecast']].plot(figsize=(12,8))\n",
        "\n",
        "df['forecast']"
      ],
      "metadata": {
        "colab": {
          "base_uri": "https://localhost:8080/",
          "height": 751
        },
        "id": "5Sx8KNZBTQW1",
        "outputId": "8c4bf27d-81cf-4287-cd1e-668b5f9b272e"
      },
      "execution_count": null,
      "outputs": [
        {
          "output_type": "execute_result",
          "data": {
            "text/plain": [
              "Month\n",
              "2021-04-01           NaN\n",
              "2021-05-01     76.313992\n",
              "2021-06-01     87.467596\n",
              "2021-07-01     93.591597\n",
              "2021-08-01     96.954042\n",
              "2021-09-01     98.800227\n",
              "2021-10-01     99.813893\n",
              "2021-11-01    100.370457\n",
              "2021-12-01    100.676044\n",
              "2022-01-01    100.843830\n",
              "2022-02-01    100.935955\n",
              "2022-03-01    100.986536\n",
              "Name: forecast, dtype: float64"
            ]
          },
          "metadata": {},
          "execution_count": 57
        },
        {
          "output_type": "display_data",
          "data": {
            "text/plain": [
              "<Figure size 864x576 with 1 Axes>"
            ],
            "image/png": "[encoded data removed]"
          },
          "metadata": {
            "needs_background": "light"
          }
        }
      ]
    },
    {
      "cell_type": "code",
      "source": [
        "# Creating a Seasonal ARIMA to verify if seasonality is present which might not have been identified during Diceky-Fuller test\n",
        "\n",
        "import statsmodels.api as sm\n",
        "\n",
        "model=sm.tsa.statespace.SARIMAX(df['Attrition'],order=(1, 0, 0),seasonal_order=(0,1,1,2))\n",
        "results=model.fit()"
      ],
      "metadata": {
        "id": "hP-wOZi0Wg2U"
      },
      "execution_count": null,
      "outputs": []
    },
    {
      "cell_type": "code",
      "source": [
        "# SARIMAX forecasted result\n",
        "\n",
        "df['forecast_s']=results.predict(start=3,end=18,dynamic=True)\n",
        "df[['Attrition','forecast_s']].plot(figsize=(12,8))"
      ],
      "metadata": {
        "colab": {
          "base_uri": "https://localhost:8080/",
          "height": 525
        },
        "id": "IfV10vtmW918",
        "outputId": "a3415133-d32b-4464-a216-b118fcebcb53"
      },
      "execution_count": null,
      "outputs": [
        {
          "output_type": "execute_result",
          "data": {
            "text/plain": [
              "<matplotlib.axes._subplots.AxesSubplot at 0x7f0ebc235910>"
            ]
          },
          "metadata": {},
          "execution_count": 60
        },
        {
          "output_type": "display_data",
          "data": {
            "text/plain": [
              "<Figure size 864x576 with 1 Axes>"
            ],
            "image/png": "[encoded data removed]"
          },
          "metadata": {
            "needs_background": "light"
          }
        }
      ]
    },
    {
      "cell_type": "code",
      "source": [
        "# future predcition\n",
        "\n",
        "from pandas.tseries.offsets import DateOffset\n",
        "future_dates=[df.index[-1]+ DateOffset(months=x)for x in range(0,6)]"
      ],
      "metadata": {
        "id": "Ed2hOo3McQCp"
      },
      "execution_count": null,
      "outputs": []
    },
    {
      "cell_type": "code",
      "source": [
        "future_datest_df=pd.DataFrame(index=future_dates[1:],columns=df.columns)"
      ],
      "metadata": {
        "id": "sXLh4PxUcYMD"
      },
      "execution_count": null,
      "outputs": []
    },
    {
      "cell_type": "code",
      "source": [
        "future_datest_df.tail()"
      ],
      "metadata": {
        "colab": {
          "base_uri": "https://localhost:8080/",
          "height": 197
        },
        "id": "XtMEm3sjccGG",
        "outputId": "a56a3e8d-ba5e-438f-ef85-0bba9ad0cee7"
      },
      "execution_count": null,
      "outputs": [
        {
          "output_type": "execute_result",
          "data": {
            "text/plain": [
              "           Attrition Attr 1 Difference Seasonal First Difference forecast  \\\n",
              "2022-04-01       NaN               NaN                       NaN      NaN   \n",
              "2022-05-01       NaN               NaN                       NaN      NaN   \n",
              "2022-06-01       NaN               NaN                       NaN      NaN   \n",
              "2022-07-01       NaN               NaN                       NaN      NaN   \n",
              "2022-08-01       NaN               NaN                       NaN      NaN   \n",
              "\n",
              "           forecast_s  \n",
              "2022-04-01        NaN  \n",
              "2022-05-01        NaN  \n",
              "2022-06-01        NaN  \n",
              "2022-07-01        NaN  \n",
              "2022-08-01        NaN  "
            ],
            "text/html": [
              "\n",
              "  <div id=\"df-2fc8958d-be7e-44f1-bc80-60ee31ece937\">\n",
              "    <div class=\"colab-df-container\">\n",
              "      <div>\n",
              "<style scoped>\n",
              "    .dataframe tbody tr th:only-of-type {\n",
              "        vertical-align: middle;\n",
              "    }\n",
              "\n",
              "    .dataframe tbody tr th {\n",
              "        vertical-align: top;\n",
              "    }\n",
              "\n",
              "    .dataframe thead th {\n",
              "        text-align: right;\n",
              "    }\n",
              "</style>\n",
              "<table border=\"1\" class=\"dataframe\">\n",
              "  <thead>\n",
              "    <tr style=\"text-align: right;\">\n",
              "      <th></th>\n",
              "      <th>Attrition</th>\n",
              "      <th>Attr 1 Difference</th>\n",
              "      <th>Seasonal First Difference</th>\n",
              "      <th>forecast</th>\n",
              "      <th>forecast_s</th>\n",
              "    </tr>\n",
              "  </thead>\n",
              "  <tbody>\n",
              "    <tr>\n",
              "      <th>2022-04-01</th>\n",
              "      <td>NaN</td>\n",
              "      <td>NaN</td>\n",
              "      <td>NaN</td>\n",
              "      <td>NaN</td>\n",
              "      <td>NaN</td>\n",
              "    </tr>\n",
              "    <tr>\n",
              "      <th>2022-05-01</th>\n",
              "      <td>NaN</td>\n",
              "      <td>NaN</td>\n",
              "      <td>NaN</td>\n",
              "      <td>NaN</td>\n",
              "      <td>NaN</td>\n",
              "    </tr>\n",
              "    <tr>\n",
              "      <th>2022-06-01</th>\n",
              "      <td>NaN</td>\n",
              "      <td>NaN</td>\n",
              "      <td>NaN</td>\n",
              "      <td>NaN</td>\n",
              "      <td>NaN</td>\n",
              "    </tr>\n",
              "    <tr>\n",
              "      <th>2022-07-01</th>\n",
              "      <td>NaN</td>\n",
              "      <td>NaN</td>\n",
              "      <td>NaN</td>\n",
              "      <td>NaN</td>\n",
              "      <td>NaN</td>\n",
              "    </tr>\n",
              "    <tr>\n",
              "      <th>2022-08-01</th>\n",
              "      <td>NaN</td>\n",
              "      <td>NaN</td>\n",
              "      <td>NaN</td>\n",
              "      <td>NaN</td>\n",
              "      <td>NaN</td>\n",
              "    </tr>\n",
              "  </tbody>\n",
              "</table>\n",
              "</div>\n",
              "      <button class=\"colab-df-convert\" onclick=\"convertToInteractive('df-2fc8958d-be7e-44f1-bc80-60ee31ece937')\"\n",
              "              title=\"Convert this dataframe to an interactive table.\"\n",
              "              style=\"display:none;\">\n",
              "        \n",
              "  <svg xmlns=\"http://www.w3.org/2000/svg\" height=\"24px\"viewBox=\"0 0 24 24\"\n",
              "       width=\"24px\">\n",
              "    <path d=\"M0 0h24v24H0V0z\" fill=\"none\"/>\n",
              "    <path d=\"M18.56 5.44l.94 2.06.94-2.06 2.06-.94-2.06-.94-.94-2.06-.94 2.06-2.06.94zm-11 1L8.5 8.5l.94-2.06 2.06-.94-2.06-.94L8.5 2.5l-.94 2.06-2.06.94zm10 10l.94 2.06.94-2.06 2.06-.94-2.06-.94-.94-2.06-.94 2.06-2.06.94z\"/><path d=\"M17.41 7.96l-1.37-1.37c-.4-.4-.92-.59-1.43-.59-.52 0-1.04.2-1.43.59L10.3 9.45l-7.72 7.72c-.78.78-.78 2.05 0 2.83L4 21.41c.39.39.9.59 1.41.59.51 0 1.02-.2 1.41-.59l7.78-7.78 2.81-2.81c.8-.78.8-2.07 0-2.86zM5.41 20L4 18.59l7.72-7.72 1.47 1.35L5.41 20z\"/>\n",
              "  </svg>\n",
              "      </button>\n",
              "      \n",
              "  <style>\n",
              "    .colab-df-container {\n",
              "      display:flex;\n",
              "      flex-wrap:wrap;\n",
              "      gap: 12px;\n",
              "    }\n",
              "\n",
              "    .colab-df-convert {\n",
              "      background-color: #E8F0FE;\n",
              "      border: none;\n",
              "      border-radius: 50%;\n",
              "      cursor: pointer;\n",
              "      display: none;\n",
              "      fill: #1967D2;\n",
              "      height: 32px;\n",
              "      padding: 0 0 0 0;\n",
              "      width: 32px;\n",
              "    }\n",
              "\n",
              "    .colab-df-convert:hover {\n",
              "      background-color: #E2EBFA;\n",
              "      box-shadow: 0px 1px 2px rgba(60, 64, 67, 0.3), 0px 1px 3px 1px rgba(60, 64, 67, 0.15);\n",
              "      fill: #174EA6;\n",
              "    }\n",
              "\n",
              "    [theme=dark] .colab-df-convert {\n",
              "      background-color: #3B4455;\n",
              "      fill: #D2E3FC;\n",
              "    }\n",
              "\n",
              "    [theme=dark] .colab-df-convert:hover {\n",
              "      background-color: #434B5C;\n",
              "      box-shadow: 0px 1px 3px 1px rgba(0, 0, 0, 0.15);\n",
              "      filter: drop-shadow(0px 1px 2px rgba(0, 0, 0, 0.3));\n",
              "      fill: #FFFFFF;\n",
              "    }\n",
              "  </style>\n",
              "\n",
              "      <script>\n",
              "        const buttonEl =\n",
              "          document.querySelector('#df-2fc8958d-be7e-44f1-bc80-60ee31ece937 button.colab-df-convert');\n",
              "        buttonEl.style.display =\n",
              "          google.colab.kernel.accessAllowed ? 'block' : 'none';\n",
              "\n",
              "        async function convertToInteractive(key) {\n",
              "          const element = document.querySelector('#df-2fc8958d-be7e-44f1-bc80-60ee31ece937');\n",
              "          const dataTable =\n",
              "            await google.colab.kernel.invokeFunction('convertToInteractive',\n",
              "                                                     [key], {});\n",
              "          if (!dataTable) return;\n",
              "\n",
              "          const docLinkHtml = 'Like what you see? Visit the ' +\n",
              "            '<a target=\"_blank\" href=https://colab.research.google.com/notebooks/data_table.ipynb>data table notebook</a>'\n",
              "            + ' to learn more about interactive tables.';\n",
              "          element.innerHTML = '';\n",
              "          dataTable['output_type'] = 'display_data';\n",
              "          await google.colab.output.renderOutput(dataTable, element);\n",
              "          const docLink = document.createElement('div');\n",
              "          docLink.innerHTML = docLinkHtml;\n",
              "          element.appendChild(docLink);\n",
              "        }\n",
              "      </script>\n",
              "    </div>\n",
              "  </div>\n",
              "  "
            ],
            "application/vnd.google.colaboratory.module+javascript": "\n      import \"https://ssl.gstatic.com/colaboratory/data_table/a8bd4d5e58f96183/data_table.js\";\n\n      window.createDataTable({\n        data: [[\"2022-04-01 00:00:00\",\n{\n            'v': NaN,\n            'f': \"NaN\",\n        },\n{\n            'v': NaN,\n            'f': \"NaN\",\n        },\n{\n            'v': NaN,\n            'f': \"NaN\",\n        },\n{\n            'v': NaN,\n            'f': \"NaN\",\n        },\n{\n            'v': NaN,\n            'f': \"NaN\",\n        }],\n [\"2022-05-01 00:00:00\",\n{\n            'v': NaN,\n            'f': \"NaN\",\n        },\n{\n            'v': NaN,\n            'f': \"NaN\",\n        },\n{\n            'v': NaN,\n            'f': \"NaN\",\n        },\n{\n            'v': NaN,\n            'f': \"NaN\",\n        },\n{\n            'v': NaN,\n            'f': \"NaN\",\n        }],\n [\"2022-06-01 00:00:00\",\n{\n            'v': NaN,\n            'f': \"NaN\",\n        },\n{\n            'v': NaN,\n            'f': \"NaN\",\n        },\n{\n            'v': NaN,\n            'f': \"NaN\",\n        },\n{\n            'v': NaN,\n            'f': \"NaN\",\n        },\n{\n            'v': NaN,\n            'f': \"NaN\",\n        }],\n [\"2022-07-01 00:00:00\",\n{\n            'v': NaN,\n            'f': \"NaN\",\n        },\n{\n            'v': NaN,\n            'f': \"NaN\",\n        },\n{\n            'v': NaN,\n            'f': \"NaN\",\n        },\n{\n            'v': NaN,\n            'f': \"NaN\",\n        },\n{\n            'v': NaN,\n            'f': \"NaN\",\n        }],\n [\"2022-08-01 00:00:00\",\n{\n            'v': NaN,\n            'f': \"NaN\",\n        },\n{\n            'v': NaN,\n            'f': \"NaN\",\n        },\n{\n            'v': NaN,\n            'f': \"NaN\",\n        },\n{\n            'v': NaN,\n            'f': \"NaN\",\n        },\n{\n            'v': NaN,\n            'f': \"NaN\",\n        }]],\n        columns: [[\"string\", \"index\"], [\"number\", \"Attrition\"], [\"number\", \"Attr 1 Difference\"], [\"number\", \"Seasonal First Difference\"], [\"number\", \"forecast\"], [\"number\", \"forecast_s\"]],\n        columnOptions: [{\"width\": \"1px\", \"className\": \"index_column\"}],\n        rowsPerPage: 25,\n        helpUrl: \"https://colab.research.google.com/notebooks/data_table.ipynb\",\n        suppressOutputScrolling: true,\n        minimumWidth: undefined,\n      });\n    "
          },
          "metadata": {},
          "execution_count": 63
        }
      ]
    },
    {
      "cell_type": "code",
      "source": [
        "future_df=pd.concat([df,future_datest_df])"
      ],
      "metadata": {
        "id": "zgN5ChigciL7"
      },
      "execution_count": null,
      "outputs": []
    },
    {
      "cell_type": "code",
      "source": [
        "# future prediction trend\n",
        "\n",
        "future_df['forecast_s'] = results.predict(start=11,end=18,dynamic=True) \n",
        "future_df[['Attrition', 'forecast_s']].plot(figsize=(12, 8)) "
      ],
      "metadata": {
        "colab": {
          "base_uri": "https://localhost:8080/",
          "height": 511
        },
        "id": "kxW8y0zQcmeB",
        "outputId": "9314adb8-8bc9-4ee9-89b8-87bcd74cf04a"
      },
      "execution_count": null,
      "outputs": [
        {
          "output_type": "execute_result",
          "data": {
            "text/plain": [
              "<matplotlib.axes._subplots.AxesSubplot at 0x7f0ebcc19a10>"
            ]
          },
          "metadata": {},
          "execution_count": 65
        },
        {
          "output_type": "display_data",
          "data": {
            "text/plain": [
              "<Figure size 864x576 with 1 Axes>"
            ],
            "image/png": "[encoded data removed]"
          },
          "metadata": {
            "needs_background": "light"
          }
        }
      ]
    },
    {
      "cell_type": "code",
      "source": [
        "future_df.tail()"
      ],
      "metadata": {
        "colab": {
          "base_uri": "https://localhost:8080/",
          "height": 197
        },
        "id": "VZTBRw_OgHlS",
        "outputId": "bde23f1b-cdfa-4be9-ca3b-a70881d62ee3"
      },
      "execution_count": null,
      "outputs": [
        {
          "output_type": "execute_result",
          "data": {
            "text/plain": [
              "           Attrition  Attr 1 Difference  Seasonal First Difference  forecast  \\\n",
              "2022-04-01       NaN                NaN                        NaN       NaN   \n",
              "2022-05-01       NaN                NaN                        NaN       NaN   \n",
              "2022-06-01       NaN                NaN                        NaN       NaN   \n",
              "2022-07-01       NaN                NaN                        NaN       NaN   \n",
              "2022-08-01       NaN                NaN                        NaN       NaN   \n",
              "\n",
              "            forecast_s  \n",
              "2022-04-01  111.704458  \n",
              "2022-05-01  123.256777  \n",
              "2022-06-01  108.108801  \n",
              "2022-07-01  119.967061  \n",
              "2022-08-01  105.098994  "
            ],
            "text/html": [
              "\n",
              "  <div id=\"df-cd334c89-c93c-43d2-b5d7-44e81d3c562c\">\n",
              "    <div class=\"colab-df-container\">\n",
              "      <div>\n",
              "<style scoped>\n",
              "    .dataframe tbody tr th:only-of-type {\n",
              "        vertical-align: middle;\n",
              "    }\n",
              "\n",
              "    .dataframe tbody tr th {\n",
              "        vertical-align: top;\n",
              "    }\n",
              "\n",
              "    .dataframe thead th {\n",
              "        text-align: right;\n",
              "    }\n",
              "</style>\n",
              "<table border=\"1\" class=\"dataframe\">\n",
              "  <thead>\n",
              "    <tr style=\"text-align: right;\">\n",
              "      <th></th>\n",
              "      <th>Attrition</th>\n",
              "      <th>Attr 1 Difference</th>\n",
              "      <th>Seasonal First Difference</th>\n",
              "      <th>forecast</th>\n",
              "      <th>forecast_s</th>\n",
              "    </tr>\n",
              "  </thead>\n",
              "  <tbody>\n",
              "    <tr>\n",
              "      <th>2022-04-01</th>\n",
              "      <td>NaN</td>\n",
              "      <td>NaN</td>\n",
              "      <td>NaN</td>\n",
              "      <td>NaN</td>\n",
              "      <td>111.704458</td>\n",
              "    </tr>\n",
              "    <tr>\n",
              "      <th>2022-05-01</th>\n",
              "      <td>NaN</td>\n",
              "      <td>NaN</td>\n",
              "      <td>NaN</td>\n",
              "      <td>NaN</td>\n",
              "      <td>123.256777</td>\n",
              "    </tr>\n",
              "    <tr>\n",
              "      <th>2022-06-01</th>\n",
              "      <td>NaN</td>\n",
              "      <td>NaN</td>\n",
              "      <td>NaN</td>\n",
              "      <td>NaN</td>\n",
              "      <td>108.108801</td>\n",
              "    </tr>\n",
              "    <tr>\n",
              "      <th>2022-07-01</th>\n",
              "      <td>NaN</td>\n",
              "      <td>NaN</td>\n",
              "      <td>NaN</td>\n",
              "      <td>NaN</td>\n",
              "      <td>119.967061</td>\n",
              "    </tr>\n",
              "    <tr>\n",
              "      <th>2022-08-01</th>\n",
              "      <td>NaN</td>\n",
              "      <td>NaN</td>\n",
              "      <td>NaN</td>\n",
              "      <td>NaN</td>\n",
              "      <td>105.098994</td>\n",
              "    </tr>\n",
              "  </tbody>\n",
              "</table>\n",
              "</div>\n",
              "      <button class=\"colab-df-convert\" onclick=\"convertToInteractive('df-cd334c89-c93c-43d2-b5d7-44e81d3c562c')\"\n",
              "              title=\"Convert this dataframe to an interactive table.\"\n",
              "              style=\"display:none;\">\n",
              "        \n",
              "  <svg xmlns=\"http://www.w3.org/2000/svg\" height=\"24px\"viewBox=\"0 0 24 24\"\n",
              "       width=\"24px\">\n",
              "    <path d=\"M0 0h24v24H0V0z\" fill=\"none\"/>\n",
              "    <path d=\"M18.56 5.44l.94 2.06.94-2.06 2.06-.94-2.06-.94-.94-2.06-.94 2.06-2.06.94zm-11 1L8.5 8.5l.94-2.06 2.06-.94-2.06-.94L8.5 2.5l-.94 2.06-2.06.94zm10 10l.94 2.06.94-2.06 2.06-.94-2.06-.94-.94-2.06-.94 2.06-2.06.94z\"/><path d=\"M17.41 7.96l-1.37-1.37c-.4-.4-.92-.59-1.43-.59-.52 0-1.04.2-1.43.59L10.3 9.45l-7.72 7.72c-.78.78-.78 2.05 0 2.83L4 21.41c.39.39.9.59 1.41.59.51 0 1.02-.2 1.41-.59l7.78-7.78 2.81-2.81c.8-.78.8-2.07 0-2.86zM5.41 20L4 18.59l7.72-7.72 1.47 1.35L5.41 20z\"/>\n",
              "  </svg>\n",
              "      </button>\n",
              "      \n",
              "  <style>\n",
              "    .colab-df-container {\n",
              "      display:flex;\n",
              "      flex-wrap:wrap;\n",
              "      gap: 12px;\n",
              "    }\n",
              "\n",
              "    .colab-df-convert {\n",
              "      background-color: #E8F0FE;\n",
              "      border: none;\n",
              "      border-radius: 50%;\n",
              "      cursor: pointer;\n",
              "      display: none;\n",
              "      fill: #1967D2;\n",
              "      height: 32px;\n",
              "      padding: 0 0 0 0;\n",
              "      width: 32px;\n",
              "    }\n",
              "\n",
              "    .colab-df-convert:hover {\n",
              "      background-color: #E2EBFA;\n",
              "      box-shadow: 0px 1px 2px rgba(60, 64, 67, 0.3), 0px 1px 3px 1px rgba(60, 64, 67, 0.15);\n",
              "      fill: #174EA6;\n",
              "    }\n",
              "\n",
              "    [theme=dark] .colab-df-convert {\n",
              "      background-color: #3B4455;\n",
              "      fill: #D2E3FC;\n",
              "    }\n",
              "\n",
              "    [theme=dark] .colab-df-convert:hover {\n",
              "      background-color: #434B5C;\n",
              "      box-shadow: 0px 1px 3px 1px rgba(0, 0, 0, 0.15);\n",
              "      filter: drop-shadow(0px 1px 2px rgba(0, 0, 0, 0.3));\n",
              "      fill: #FFFFFF;\n",
              "    }\n",
              "  </style>\n",
              "\n",
              "      <script>\n",
              "        const buttonEl =\n",
              "          document.querySelector('#df-cd334c89-c93c-43d2-b5d7-44e81d3c562c button.colab-df-convert');\n",
              "        buttonEl.style.display =\n",
              "          google.colab.kernel.accessAllowed ? 'block' : 'none';\n",
              "\n",
              "        async function convertToInteractive(key) {\n",
              "          const element = document.querySelector('#df-cd334c89-c93c-43d2-b5d7-44e81d3c562c');\n",
              "          const dataTable =\n",
              "            await google.colab.kernel.invokeFunction('convertToInteractive',\n",
              "                                                     [key], {});\n",
              "          if (!dataTable) return;\n",
              "\n",
              "          const docLinkHtml = 'Like what you see? Visit the ' +\n",
              "            '<a target=\"_blank\" href=https://colab.research.google.com/notebooks/data_table.ipynb>data table notebook</a>'\n",
              "            + ' to learn more about interactive tables.';\n",
              "          element.innerHTML = '';\n",
              "          dataTable['output_type'] = 'display_data';\n",
              "          await google.colab.output.renderOutput(dataTable, element);\n",
              "          const docLink = document.createElement('div');\n",
              "          docLink.innerHTML = docLinkHtml;\n",
              "          element.appendChild(docLink);\n",
              "        }\n",
              "      </script>\n",
              "    </div>\n",
              "  </div>\n",
              "  "
            ],
            "application/vnd.google.colaboratory.module+javascript": "\n      import \"https://ssl.gstatic.com/colaboratory/data_table/a8bd4d5e58f96183/data_table.js\";\n\n      window.createDataTable({\n        data: [[\"2022-04-01 00:00:00\",\n{\n            'v': NaN,\n            'f': \"NaN\",\n        },\n{\n            'v': NaN,\n            'f': \"NaN\",\n        },\n{\n            'v': NaN,\n            'f': \"NaN\",\n        },\n{\n            'v': NaN,\n            'f': \"NaN\",\n        },\n{\n            'v': 111.70445804548912,\n            'f': \"111.70445804548912\",\n        }],\n [\"2022-05-01 00:00:00\",\n{\n            'v': NaN,\n            'f': \"NaN\",\n        },\n{\n            'v': NaN,\n            'f': \"NaN\",\n        },\n{\n            'v': NaN,\n            'f': \"NaN\",\n        },\n{\n            'v': NaN,\n            'f': \"NaN\",\n        },\n{\n            'v': 123.2567770732897,\n            'f': \"123.2567770732897\",\n        }],\n [\"2022-06-01 00:00:00\",\n{\n            'v': NaN,\n            'f': \"NaN\",\n        },\n{\n            'v': NaN,\n            'f': \"NaN\",\n        },\n{\n            'v': NaN,\n            'f': \"NaN\",\n        },\n{\n            'v': NaN,\n            'f': \"NaN\",\n        },\n{\n            'v': 108.10880078826364,\n            'f': \"108.10880078826364\",\n        }],\n [\"2022-07-01 00:00:00\",\n{\n            'v': NaN,\n            'f': \"NaN\",\n        },\n{\n            'v': NaN,\n            'f': \"NaN\",\n        },\n{\n            'v': NaN,\n            'f': \"NaN\",\n        },\n{\n            'v': NaN,\n            'f': \"NaN\",\n        },\n{\n            'v': 119.96706075804265,\n            'f': \"119.96706075804265\",\n        }],\n [\"2022-08-01 00:00:00\",\n{\n            'v': NaN,\n            'f': \"NaN\",\n        },\n{\n            'v': NaN,\n            'f': \"NaN\",\n        },\n{\n            'v': NaN,\n            'f': \"NaN\",\n        },\n{\n            'v': NaN,\n            'f': \"NaN\",\n        },\n{\n            'v': 105.0989940518025,\n            'f': \"105.0989940518025\",\n        }]],\n        columns: [[\"string\", \"index\"], [\"number\", \"Attrition\"], [\"number\", \"Attr 1 Difference\"], [\"number\", \"Seasonal First Difference\"], [\"number\", \"forecast\"], [\"number\", \"forecast_s\"]],\n        columnOptions: [{\"width\": \"1px\", \"className\": \"index_column\"}],\n        rowsPerPage: 25,\n        helpUrl: \"https://colab.research.google.com/notebooks/data_table.ipynb\",\n        suppressOutputScrolling: true,\n        minimumWidth: undefined,\n      });\n    "
          },
          "metadata": {},
          "execution_count": 66
        }
      ]
    },
    {
      "cell_type": "code",
      "source": [
        "future_df"
      ],
      "metadata": {
        "colab": {
          "base_uri": "https://localhost:8080/",
          "height": 456
        },
        "id": "pgp3iGrJgsbr",
        "outputId": "9f7942a1-938d-4ecc-8cc8-6e43720350f6"
      },
      "execution_count": null,
      "outputs": [
        {
          "output_type": "execute_result",
          "data": {
            "text/plain": [
              "           Attrition  Attr 1 Difference  Seasonal First Difference  \\\n",
              "2021-04-01        56                NaN                        NaN   \n",
              "2021-05-01        99               43.0                        NaN   \n",
              "2021-06-01        87              -12.0                        NaN   \n",
              "2021-07-01       100               13.0                       44.0   \n",
              "2021-08-01       106                6.0                        7.0   \n",
              "2021-09-01        95              -11.0                        8.0   \n",
              "2021-10-01        85              -10.0                      -15.0   \n",
              "2021-11-01       125               40.0                       19.0   \n",
              "2021-12-01       125                0.0                       30.0   \n",
              "2022-01-01       137               12.0                       52.0   \n",
              "2022-02-01       116              -21.0                       -9.0   \n",
              "2022-03-01       117                1.0                       -8.0   \n",
              "2022-04-01       NaN                NaN                        NaN   \n",
              "2022-05-01       NaN                NaN                        NaN   \n",
              "2022-06-01       NaN                NaN                        NaN   \n",
              "2022-07-01       NaN                NaN                        NaN   \n",
              "2022-08-01       NaN                NaN                        NaN   \n",
              "\n",
              "              forecast  forecast_s  \n",
              "2021-04-01         NaN         NaN  \n",
              "2021-05-01   76.313992         NaN  \n",
              "2021-06-01   87.467596         NaN  \n",
              "2021-07-01   93.591597         NaN  \n",
              "2021-08-01   96.954042         NaN  \n",
              "2021-09-01   98.800227         NaN  \n",
              "2021-10-01   99.813893         NaN  \n",
              "2021-11-01  100.370457         NaN  \n",
              "2021-12-01  100.676044         NaN  \n",
              "2022-01-01  100.843830         NaN  \n",
              "2022-02-01  100.935955         NaN  \n",
              "2022-03-01  100.986536  127.186828  \n",
              "2022-04-01         NaN  111.704458  \n",
              "2022-05-01         NaN  123.256777  \n",
              "2022-06-01         NaN  108.108801  \n",
              "2022-07-01         NaN  119.967061  \n",
              "2022-08-01         NaN  105.098994  "
            ],
            "text/html": [
              "\n",
              "  <div id=\"df-8a1b8beb-5f65-47eb-8ad3-793c7ec6a1b5\">\n",
              "    <div class=\"colab-df-container\">\n",
              "      <div>\n",
              "<style scoped>\n",
              "    .dataframe tbody tr th:only-of-type {\n",
              "        vertical-align: middle;\n",
              "    }\n",
              "\n",
              "    .dataframe tbody tr th {\n",
              "        vertical-align: top;\n",
              "    }\n",
              "\n",
              "    .dataframe thead th {\n",
              "        text-align: right;\n",
              "    }\n",
              "</style>\n",
              "<table border=\"1\" class=\"dataframe\">\n",
              "  <thead>\n",
              "    <tr style=\"text-align: right;\">\n",
              "      <th></th>\n",
              "      <th>Attrition</th>\n",
              "      <th>Attr 1 Difference</th>\n",
              "      <th>Seasonal First Difference</th>\n",
              "      <th>forecast</th>\n",
              "      <th>forecast_s</th>\n",
              "    </tr>\n",
              "  </thead>\n",
              "  <tbody>\n",
              "    <tr>\n",
              "      <th>2021-04-01</th>\n",
              "      <td>56</td>\n",
              "      <td>NaN</td>\n",
              "      <td>NaN</td>\n",
              "      <td>NaN</td>\n",
              "      <td>NaN</td>\n",
              "    </tr>\n",
              "    <tr>\n",
              "      <th>2021-05-01</th>\n",
              "      <td>99</td>\n",
              "      <td>43.0</td>\n",
              "      <td>NaN</td>\n",
              "      <td>76.313992</td>\n",
              "      <td>NaN</td>\n",
              "    </tr>\n",
              "    <tr>\n",
              "      <th>2021-06-01</th>\n",
              "      <td>87</td>\n",
              "      <td>-12.0</td>\n",
              "      <td>NaN</td>\n",
              "      <td>87.467596</td>\n",
              "      <td>NaN</td>\n",
              "    </tr>\n",
              "    <tr>\n",
              "      <th>2021-07-01</th>\n",
              "      <td>100</td>\n",
              "      <td>13.0</td>\n",
              "      <td>44.0</td>\n",
              "      <td>93.591597</td>\n",
              "      <td>NaN</td>\n",
              "    </tr>\n",
              "    <tr>\n",
              "      <th>2021-08-01</th>\n",
              "      <td>106</td>\n",
              "      <td>6.0</td>\n",
              "      <td>7.0</td>\n",
              "      <td>96.954042</td>\n",
              "      <td>NaN</td>\n",
              "    </tr>\n",
              "    <tr>\n",
              "      <th>2021-09-01</th>\n",
              "      <td>95</td>\n",
              "      <td>-11.0</td>\n",
              "      <td>8.0</td>\n",
              "      <td>98.800227</td>\n",
              "      <td>NaN</td>\n",
              "    </tr>\n",
              "    <tr>\n",
              "      <th>2021-10-01</th>\n",
              "      <td>85</td>\n",
              "      <td>-10.0</td>\n",
              "      <td>-15.0</td>\n",
              "      <td>99.813893</td>\n",
              "      <td>NaN</td>\n",
              "    </tr>\n",
              "    <tr>\n",
              "      <th>2021-11-01</th>\n",
              "      <td>125</td>\n",
              "      <td>40.0</td>\n",
              "      <td>19.0</td>\n",
              "      <td>100.370457</td>\n",
              "      <td>NaN</td>\n",
              "    </tr>\n",
              "    <tr>\n",
              "      <th>2021-12-01</th>\n",
              "      <td>125</td>\n",
              "      <td>0.0</td>\n",
              "      <td>30.0</td>\n",
              "      <td>100.676044</td>\n",
              "      <td>NaN</td>\n",
              "    </tr>\n",
              "    <tr>\n",
              "      <th>2022-01-01</th>\n",
              "      <td>137</td>\n",
              "      <td>12.0</td>\n",
              "      <td>52.0</td>\n",
              "      <td>100.843830</td>\n",
              "      <td>NaN</td>\n",
              "    </tr>\n",
              "    <tr>\n",
              "      <th>2022-02-01</th>\n",
              "      <td>116</td>\n",
              "      <td>-21.0</td>\n",
              "      <td>-9.0</td>\n",
              "      <td>100.935955</td>\n",
              "      <td>NaN</td>\n",
              "    </tr>\n",
              "    <tr>\n",
              "      <th>2022-03-01</th>\n",
              "      <td>117</td>\n",
              "      <td>1.0</td>\n",
              "      <td>-8.0</td>\n",
              "      <td>100.986536</td>\n",
              "      <td>127.186828</td>\n",
              "    </tr>\n",
              "    <tr>\n",
              "      <th>2022-04-01</th>\n",
              "      <td>NaN</td>\n",
              "      <td>NaN</td>\n",
              "      <td>NaN</td>\n",
              "      <td>NaN</td>\n",
              "      <td>111.704458</td>\n",
              "    </tr>\n",
              "    <tr>\n",
              "      <th>2022-05-01</th>\n",
              "      <td>NaN</td>\n",
              "      <td>NaN</td>\n",
              "      <td>NaN</td>\n",
              "      <td>NaN</td>\n",
              "      <td>123.256777</td>\n",
              "    </tr>\n",
              "    <tr>\n",
              "      <th>2022-06-01</th>\n",
              "      <td>NaN</td>\n",
              "      <td>NaN</td>\n",
              "      <td>NaN</td>\n",
              "      <td>NaN</td>\n",
              "      <td>108.108801</td>\n",
              "    </tr>\n",
              "    <tr>\n",
              "      <th>2022-07-01</th>\n",
              "      <td>NaN</td>\n",
              "      <td>NaN</td>\n",
              "      <td>NaN</td>\n",
              "      <td>NaN</td>\n",
              "      <td>119.967061</td>\n",
              "    </tr>\n",
              "    <tr>\n",
              "      <th>2022-08-01</th>\n",
              "      <td>NaN</td>\n",
              "      <td>NaN</td>\n",
              "      <td>NaN</td>\n",
              "      <td>NaN</td>\n",
              "      <td>105.098994</td>\n",
              "    </tr>\n",
              "  </tbody>\n",
              "</table>\n",
              "</div>\n",
              "      <button class=\"colab-df-convert\" onclick=\"convertToInteractive('df-8a1b8beb-5f65-47eb-8ad3-793c7ec6a1b5')\"\n",
              "              title=\"Convert this dataframe to an interactive table.\"\n",
              "              style=\"display:none;\">\n",
              "        \n",
              "  <svg xmlns=\"http://www.w3.org/2000/svg\" height=\"24px\"viewBox=\"0 0 24 24\"\n",
              "       width=\"24px\">\n",
              "    <path d=\"M0 0h24v24H0V0z\" fill=\"none\"/>\n",
              "    <path d=\"M18.56 5.44l.94 2.06.94-2.06 2.06-.94-2.06-.94-.94-2.06-.94 2.06-2.06.94zm-11 1L8.5 8.5l.94-2.06 2.06-.94-2.06-.94L8.5 2.5l-.94 2.06-2.06.94zm10 10l.94 2.06.94-2.06 2.06-.94-2.06-.94-.94-2.06-.94 2.06-2.06.94z\"/><path d=\"M17.41 7.96l-1.37-1.37c-.4-.4-.92-.59-1.43-.59-.52 0-1.04.2-1.43.59L10.3 9.45l-7.72 7.72c-.78.78-.78 2.05 0 2.83L4 21.41c.39.39.9.59 1.41.59.51 0 1.02-.2 1.41-.59l7.78-7.78 2.81-2.81c.8-.78.8-2.07 0-2.86zM5.41 20L4 18.59l7.72-7.72 1.47 1.35L5.41 20z\"/>\n",
              "  </svg>\n",
              "      </button>\n",
              "      \n",
              "  <style>\n",
              "    .colab-df-container {\n",
              "      display:flex;\n",
              "      flex-wrap:wrap;\n",
              "      gap: 12px;\n",
              "    }\n",
              "\n",
              "    .colab-df-convert {\n",
              "      background-color: #E8F0FE;\n",
              "      border: none;\n",
              "      border-radius: 50%;\n",
              "      cursor: pointer;\n",
              "      display: none;\n",
              "      fill: #1967D2;\n",
              "      height: 32px;\n",
              "      padding: 0 0 0 0;\n",
              "      width: 32px;\n",
              "    }\n",
              "\n",
              "    .colab-df-convert:hover {\n",
              "      background-color: #E2EBFA;\n",
              "      box-shadow: 0px 1px 2px rgba(60, 64, 67, 0.3), 0px 1px 3px 1px rgba(60, 64, 67, 0.15);\n",
              "      fill: #174EA6;\n",
              "    }\n",
              "\n",
              "    [theme=dark] .colab-df-convert {\n",
              "      background-color: #3B4455;\n",
              "      fill: #D2E3FC;\n",
              "    }\n",
              "\n",
              "    [theme=dark] .colab-df-convert:hover {\n",
              "      background-color: #434B5C;\n",
              "      box-shadow: 0px 1px 3px 1px rgba(0, 0, 0, 0.15);\n",
              "      filter: drop-shadow(0px 1px 2px rgba(0, 0, 0, 0.3));\n",
              "      fill: #FFFFFF;\n",
              "    }\n",
              "  </style>\n",
              "\n",
              "      <script>\n",
              "        const buttonEl =\n",
              "          document.querySelector('#df-8a1b8beb-5f65-47eb-8ad3-793c7ec6a1b5 button.colab-df-convert');\n",
              "        buttonEl.style.display =\n",
              "          google.colab.kernel.accessAllowed ? 'block' : 'none';\n",
              "\n",
              "        async function convertToInteractive(key) {\n",
              "          const element = document.querySelector('#df-8a1b8beb-5f65-47eb-8ad3-793c7ec6a1b5');\n",
              "          const dataTable =\n",
              "            await google.colab.kernel.invokeFunction('convertToInteractive',\n",
              "                                                     [key], {});\n",
              "          if (!dataTable) return;\n",
              "\n",
              "          const docLinkHtml = 'Like what you see? Visit the ' +\n",
              "            '<a target=\"_blank\" href=https://colab.research.google.com/notebooks/data_table.ipynb>data table notebook</a>'\n",
              "            + ' to learn more about interactive tables.';\n",
              "          element.innerHTML = '';\n",
              "          dataTable['output_type'] = 'display_data';\n",
              "          await google.colab.output.renderOutput(dataTable, element);\n",
              "          const docLink = document.createElement('div');\n",
              "          docLink.innerHTML = docLinkHtml;\n",
              "          element.appendChild(docLink);\n",
              "        }\n",
              "      </script>\n",
              "    </div>\n",
              "  </div>\n",
              "  "
            ],
            "application/vnd.google.colaboratory.module+javascript": "\n      import \"https://ssl.gstatic.com/colaboratory/data_table/a8bd4d5e58f96183/data_table.js\";\n\n      window.createDataTable({\n        data: [[\"2021-04-01 00:00:00\",\n{\n            'v': 56,\n            'f': \"56\",\n        },\n{\n            'v': NaN,\n            'f': \"NaN\",\n        },\n{\n            'v': NaN,\n            'f': \"NaN\",\n        },\n{\n            'v': NaN,\n            'f': \"NaN\",\n        },\n{\n            'v': NaN,\n            'f': \"NaN\",\n        }],\n [\"2021-05-01 00:00:00\",\n{\n            'v': 99,\n            'f': \"99\",\n        },\n{\n            'v': 43.0,\n            'f': \"43.0\",\n        },\n{\n            'v': NaN,\n            'f': \"NaN\",\n        },\n{\n            'v': 76.31399186461694,\n            'f': \"76.31399186461694\",\n        },\n{\n            'v': NaN,\n            'f': \"NaN\",\n        }],\n [\"2021-06-01 00:00:00\",\n{\n            'v': 87,\n            'f': \"87\",\n        },\n{\n            'v': -12.0,\n            'f': \"-12.0\",\n        },\n{\n            'v': NaN,\n            'f': \"NaN\",\n        },\n{\n            'v': 87.46759646447812,\n            'f': \"87.46759646447812\",\n        },\n{\n            'v': NaN,\n            'f': \"NaN\",\n        }],\n [\"2021-07-01 00:00:00\",\n{\n            'v': 100,\n            'f': \"100\",\n        },\n{\n            'v': 13.0,\n            'f': \"13.0\",\n        },\n{\n            'v': 44.0,\n            'f': \"44.0\",\n        },\n{\n            'v': 93.59159692677673,\n            'f': \"93.59159692677673\",\n        },\n{\n            'v': NaN,\n            'f': \"NaN\",\n        }],\n [\"2021-08-01 00:00:00\",\n{\n            'v': 106,\n            'f': \"106\",\n        },\n{\n            'v': 6.0,\n            'f': \"6.0\",\n        },\n{\n            'v': 7.0,\n            'f': \"7.0\",\n        },\n{\n            'v': 96.9540418948098,\n            'f': \"96.9540418948098\",\n        },\n{\n            'v': NaN,\n            'f': \"NaN\",\n        }],\n [\"2021-09-01 00:00:00\",\n{\n            'v': 95,\n            'f': \"95\",\n        },\n{\n            'v': -11.0,\n            'f': \"-11.0\",\n        },\n{\n            'v': 8.0,\n            'f': \"8.0\",\n        },\n{\n            'v': 98.80022662857242,\n            'f': \"98.80022662857242\",\n        },\n{\n            'v': NaN,\n            'f': \"NaN\",\n        }],\n [\"2021-10-01 00:00:00\",\n{\n            'v': 85,\n            'f': \"85\",\n        },\n{\n            'v': -10.0,\n            'f': \"-10.0\",\n        },\n{\n            'v': -15.0,\n            'f': \"-15.0\",\n        },\n{\n            'v': 99.81389320262252,\n            'f': \"99.81389320262252\",\n        },\n{\n            'v': NaN,\n            'f': \"NaN\",\n        }],\n [\"2021-11-01 00:00:00\",\n{\n            'v': 125,\n            'f': \"125\",\n        },\n{\n            'v': 40.0,\n            'f': \"40.0\",\n        },\n{\n            'v': 19.0,\n            'f': \"19.0\",\n        },\n{\n            'v': 100.3704571826812,\n            'f': \"100.3704571826812\",\n        },\n{\n            'v': NaN,\n            'f': \"NaN\",\n        }],\n [\"2021-12-01 00:00:00\",\n{\n            'v': 125,\n            'f': \"125\",\n        },\n{\n            'v': 0.0,\n            'f': \"0.0\",\n        },\n{\n            'v': 30.0,\n            'f': \"30.0\",\n        },\n{\n            'v': 100.67604431737492,\n            'f': \"100.67604431737492\",\n        },\n{\n            'v': NaN,\n            'f': \"NaN\",\n        }],\n [\"2022-01-01 00:00:00\",\n{\n            'v': 137,\n            'f': \"137\",\n        },\n{\n            'v': 12.0,\n            'f': \"12.0\",\n        },\n{\n            'v': 52.0,\n            'f': \"52.0\",\n        },\n{\n            'v': 100.84383005313249,\n            'f': \"100.84383005313249\",\n        },\n{\n            'v': NaN,\n            'f': \"NaN\",\n        }],\n [\"2022-02-01 00:00:00\",\n{\n            'v': 116,\n            'f': \"116\",\n        },\n{\n            'v': -21.0,\n            'f': \"-21.0\",\n        },\n{\n            'v': -9.0,\n            'f': \"-9.0\",\n        },\n{\n            'v': 100.93595452411824,\n            'f': \"100.93595452411824\",\n        },\n{\n            'v': NaN,\n            'f': \"NaN\",\n        }],\n [\"2022-03-01 00:00:00\",\n{\n            'v': 117,\n            'f': \"117\",\n        },\n{\n            'v': 1.0,\n            'f': \"1.0\",\n        },\n{\n            'v': -8.0,\n            'f': \"-8.0\",\n        },\n{\n            'v': 100.98653640532577,\n            'f': \"100.98653640532577\",\n        },\n{\n            'v': 127.1868275312932,\n            'f': \"127.1868275312932\",\n        }],\n [\"2022-04-01 00:00:00\",\n{\n            'v': NaN,\n            'f': \"NaN\",\n        },\n{\n            'v': NaN,\n            'f': \"NaN\",\n        },\n{\n            'v': NaN,\n            'f': \"NaN\",\n        },\n{\n            'v': NaN,\n            'f': \"NaN\",\n        },\n{\n            'v': 111.70445804548912,\n            'f': \"111.70445804548912\",\n        }],\n [\"2022-05-01 00:00:00\",\n{\n            'v': NaN,\n            'f': \"NaN\",\n        },\n{\n            'v': NaN,\n            'f': \"NaN\",\n        },\n{\n            'v': NaN,\n            'f': \"NaN\",\n        },\n{\n            'v': NaN,\n            'f': \"NaN\",\n        },\n{\n            'v': 123.2567770732897,\n            'f': \"123.2567770732897\",\n        }],\n [\"2022-06-01 00:00:00\",\n{\n            'v': NaN,\n            'f': \"NaN\",\n        },\n{\n            'v': NaN,\n            'f': \"NaN\",\n        },\n{\n            'v': NaN,\n            'f': \"NaN\",\n        },\n{\n            'v': NaN,\n            'f': \"NaN\",\n        },\n{\n            'v': 108.10880078826364,\n            'f': \"108.10880078826364\",\n        }],\n [\"2022-07-01 00:00:00\",\n{\n            'v': NaN,\n            'f': \"NaN\",\n        },\n{\n            'v': NaN,\n            'f': \"NaN\",\n        },\n{\n            'v': NaN,\n            'f': \"NaN\",\n        },\n{\n            'v': NaN,\n            'f': \"NaN\",\n        },\n{\n            'v': 119.96706075804265,\n            'f': \"119.96706075804265\",\n        }],\n [\"2022-08-01 00:00:00\",\n{\n            'v': NaN,\n            'f': \"NaN\",\n        },\n{\n            'v': NaN,\n            'f': \"NaN\",\n        },\n{\n            'v': NaN,\n            'f': \"NaN\",\n        },\n{\n            'v': NaN,\n            'f': \"NaN\",\n        },\n{\n            'v': 105.0989940518025,\n            'f': \"105.0989940518025\",\n        }]],\n        columns: [[\"string\", \"index\"], [\"number\", \"Attrition\"], [\"number\", \"Attr 1 Difference\"], [\"number\", \"Seasonal First Difference\"], [\"number\", \"forecast\"], [\"number\", \"forecast_s\"]],\n        columnOptions: [{\"width\": \"1px\", \"className\": \"index_column\"}],\n        rowsPerPage: 25,\n        helpUrl: \"https://colab.research.google.com/notebooks/data_table.ipynb\",\n        suppressOutputScrolling: true,\n        minimumWidth: undefined,\n      });\n    "
          },
          "metadata": {},
          "execution_count": 67
        }
      ]
    },
    {
      "cell_type": "code",
      "source": [
        "# time series - statsmodels \n",
        "# Seasonality decomposition\n",
        "from statsmodels.tsa.seasonal import seasonal_decompose\n",
        "from statsmodels.tsa.seasonal import seasonal_decompose "
      ],
      "metadata": {
        "id": "7DkTSFLwi1pD"
      },
      "execution_count": null,
      "outputs": []
    },
    {
      "cell_type": "code",
      "source": [
        "# holt winters \n",
        "# single exponential smoothing\n",
        "from statsmodels.tsa.holtwinters import SimpleExpSmoothing  "
      ],
      "metadata": {
        "id": "lWPVDrKYiZmx"
      },
      "execution_count": null,
      "outputs": []
    },
    {
      "cell_type": "code",
      "source": [
        "# double and triple exponential smoothing\n",
        "from statsmodels.tsa.holtwinters import ExponentialSmoothing"
      ],
      "metadata": {
        "id": "c8yB8wJ5idLW"
      },
      "execution_count": null,
      "outputs": []
    },
    {
      "cell_type": "code",
      "source": [
        "m = 3\n",
        "alpha = 1/(2*m)"
      ],
      "metadata": {
        "id": "j-xsQkbbkJTf"
      },
      "execution_count": null,
      "outputs": []
    },
    {
      "cell_type": "code",
      "source": [
        "#Single HWES\n",
        "df['HWES1'] = SimpleExpSmoothing(df['Attrition']).fit(smoothing_level=alpha,optimized=False,use_brute=True).fittedvalues\n",
        "df[['Attrition','HWES1']].plot(title='Holt Winters Single Exponential Smoothing')"
      ],
      "metadata": {
        "colab": {
          "base_uri": "https://localhost:8080/",
          "height": 324
        },
        "id": "F2d7kf7dkNRb",
        "outputId": "6a34aa64-cdcc-487f-af5c-47ad8258cc32"
      },
      "execution_count": null,
      "outputs": [
        {
          "output_type": "execute_result",
          "data": {
            "text/plain": [
              "<matplotlib.axes._subplots.AxesSubplot at 0x7f0ebc030d50>"
            ]
          },
          "metadata": {},
          "execution_count": 72
        },
        {
          "output_type": "display_data",
          "data": {
            "text/plain": [
              "<Figure size 432x288 with 1 Axes>"
            ],
            "image/png": "[encoded data removed]"
          },
          "metadata": {
            "needs_background": "light"
          }
        }
      ]
    },
    {
      "cell_type": "code",
      "source": [
        "#Double HWES\n",
        "df['HWES2_ADD'] = ExponentialSmoothing(df['Attrition'],trend='add').fit().fittedvalues\n",
        "\n",
        "df['HWES2_MUL'] = ExponentialSmoothing(df['Attrition'],trend='mul').fit().fittedvalues\n",
        "\n",
        "df[['Attrition','HWES2_ADD','HWES2_MUL']].plot(title='Holt Winters Double Exponential Smoothing: Additive and Multiplicative Trend')"
      ],
      "metadata": {
        "colab": {
          "base_uri": "https://localhost:8080/",
          "height": 324
        },
        "id": "KPnrH7Pukv9o",
        "outputId": "2a81b66d-2ca7-4016-9900-70abce7c9174"
      },
      "execution_count": null,
      "outputs": [
        {
          "output_type": "execute_result",
          "data": {
            "text/plain": [
              "<matplotlib.axes._subplots.AxesSubplot at 0x7f0ebbfc6450>"
            ]
          },
          "metadata": {},
          "execution_count": 73
        },
        {
          "output_type": "display_data",
          "data": {
            "text/plain": [
              "<Figure size 432x288 with 1 Axes>"
            ],
            "image/png": "[encoded data removed]"
          },
          "metadata": {
            "needs_background": "light"
          }
        }
      ]
    },
    {
      "cell_type": "code",
      "source": [
        "#Triple HWES\n",
        "df['HWES3_ADD'] = ExponentialSmoothing(df['Attrition'],trend='add',seasonal='add',seasonal_periods=3).fit().fittedvalues\n",
        "\n",
        "df['HWES3_MUL'] = ExponentialSmoothing(df['Attrition'],trend='mul',seasonal='mul',seasonal_periods=3).fit().fittedvalues\n",
        "\n",
        "df[['Attrition','HWES3_ADD','HWES3_MUL']].plot(title='Holt Winters Triple Exponential Smoothing: Additive and Multiplicative Seasonality')"
      ],
      "metadata": {
        "colab": {
          "base_uri": "https://localhost:8080/",
          "height": 324
        },
        "id": "Igy0h9n4lthe",
        "outputId": "cecaa757-59e7-4a4c-8cc4-b7d443c80a6b"
      },
      "execution_count": null,
      "outputs": [
        {
          "output_type": "execute_result",
          "data": {
            "text/plain": [
              "<matplotlib.axes._subplots.AxesSubplot at 0x7f0ebbf005d0>"
            ]
          },
          "metadata": {},
          "execution_count": 74
        },
        {
          "output_type": "display_data",
          "data": {
            "text/plain": [
              "<Figure size 432x288 with 1 Axes>"
            ],
            "image/png": "[encoded data removed]"
          },
          "metadata": {
            "needs_background": "light"
          }
        }
      ]
    },
    {
      "cell_type": "code",
      "source": [
        "df['HWES3_ADD']"
      ],
      "metadata": {
        "colab": {
          "base_uri": "https://localhost:8080/"
        },
        "id": "c7dAnYrLoe6z",
        "outputId": "cfadc082-eebb-466e-d28c-c51e002e8b49"
      },
      "execution_count": null,
      "outputs": [
        {
          "output_type": "execute_result",
          "data": {
            "text/plain": [
              "Month\n",
              "2021-04-01     73.599250\n",
              "2021-05-01     90.599635\n",
              "2021-06-01     85.099671\n",
              "2021-07-01     87.532826\n",
              "2021-08-01    104.533211\n",
              "2021-09-01     99.033247\n",
              "2021-10-01    101.466402\n",
              "2021-11-01    118.466787\n",
              "2021-12-01    112.966823\n",
              "2022-01-01    115.399979\n",
              "2022-02-01    132.400364\n",
              "2022-03-01    126.900400\n",
              "Name: HWES3_ADD, dtype: float64"
            ]
          },
          "metadata": {},
          "execution_count": 75
        }
      ]
    },
    {
      "cell_type": "code",
      "source": [
        "df['HWES3_MUL']"
      ],
      "metadata": {
        "colab": {
          "base_uri": "https://localhost:8080/"
        },
        "id": "hUcR23usoYo1",
        "outputId": "b0b38623-0c75-43db-9cf0-6763a3bf92af"
      },
      "execution_count": null,
      "outputs": [
        {
          "output_type": "execute_result",
          "data": {
            "text/plain": [
              "Month\n",
              "2021-04-01     78.643378\n",
              "2021-05-01     90.215087\n",
              "2021-06-01     86.443003\n",
              "2021-07-01     89.340374\n",
              "2021-08-01    102.486056\n",
              "2021-09-01     98.200897\n",
              "2021-10-01    101.492366\n",
              "2021-11-01    116.426111\n",
              "2021-12-01    111.558088\n",
              "2022-01-01    115.297259\n",
              "2022-02-01    132.262279\n",
              "2022-03-01    126.732112\n",
              "Name: HWES3_MUL, dtype: float64"
            ]
          },
          "metadata": {},
          "execution_count": 76
        }
      ]
    },
    {
      "cell_type": "code",
      "source": [
        "df"
      ],
      "metadata": {
        "colab": {
          "base_uri": "https://localhost:8080/",
          "height": 365
        },
        "id": "s3NbVJLaooge",
        "outputId": "1c01fdaa-9e8b-4b33-ea10-4dd8fe031b31"
      },
      "execution_count": null,
      "outputs": [
        {
          "output_type": "execute_result",
          "data": {
            "text/plain": [
              "            Attrition  Attr 1 Difference  Seasonal First Difference  \\\n",
              "Month                                                                 \n",
              "2021-04-01         56                NaN                        NaN   \n",
              "2021-05-01         99               43.0                        NaN   \n",
              "2021-06-01         87              -12.0                        NaN   \n",
              "2021-07-01        100               13.0                       44.0   \n",
              "2021-08-01        106                6.0                        7.0   \n",
              "2021-09-01         95              -11.0                        8.0   \n",
              "2021-10-01         85              -10.0                      -15.0   \n",
              "2021-11-01        125               40.0                       19.0   \n",
              "2021-12-01        125                0.0                       30.0   \n",
              "2022-01-01        137               12.0                       52.0   \n",
              "2022-02-01        116              -21.0                       -9.0   \n",
              "2022-03-01        117                1.0                       -8.0   \n",
              "\n",
              "              forecast  forecast_s       HWES1   HWES2_ADD   HWES2_MUL  \\\n",
              "Month                                                                    \n",
              "2021-04-01         NaN         NaN   56.000000   78.115535   81.059410   \n",
              "2021-05-01   76.313992         NaN   56.000000   82.821811   84.652630   \n",
              "2021-06-01   87.467596         NaN   63.166667   87.528088   88.405130   \n",
              "2021-07-01   93.591597  113.166930   67.138889   92.234364   92.323973   \n",
              "2021-08-01   96.954042   84.472273   72.615741   96.940641   96.416530   \n",
              "2021-09-01   98.800227  110.854278   78.179784  101.646917  100.690504   \n",
              "2021-10-01   99.813893   82.356396   80.983153  106.353193  105.153935   \n",
              "2021-11-01  100.370457  108.918433   81.652628  111.059469  109.815222   \n",
              "2021-12-01  100.676044   80.585265   88.877190  115.765746  114.683135   \n",
              "2022-01-01  100.843830  107.298001   94.897658  120.472022  119.766835   \n",
              "2022-02-01  100.935955   79.102709  101.914715  125.178299  125.075886   \n",
              "2022-03-01  100.986536  105.941590  104.262263  129.884575  130.620278   \n",
              "\n",
              "             HWES3_ADD   HWES3_MUL  \n",
              "Month                               \n",
              "2021-04-01   73.599250   78.643378  \n",
              "2021-05-01   90.599635   90.215087  \n",
              "2021-06-01   85.099671   86.443003  \n",
              "2021-07-01   87.532826   89.340374  \n",
              "2021-08-01  104.533211  102.486056  \n",
              "2021-09-01   99.033247   98.200897  \n",
              "2021-10-01  101.466402  101.492366  \n",
              "2021-11-01  118.466787  116.426111  \n",
              "2021-12-01  112.966823  111.558088  \n",
              "2022-01-01  115.399979  115.297259  \n",
              "2022-02-01  132.400364  132.262279  \n",
              "2022-03-01  126.900400  126.732112  "
            ],
            "text/html": [
              "\n",
              "  <div id=\"df-5ec640b0-a6fc-4ae8-956f-13979cf94850\">\n",
              "    <div class=\"colab-df-container\">\n",
              "      <div>\n",
              "<style scoped>\n",
              "    .dataframe tbody tr th:only-of-type {\n",
              "        vertical-align: middle;\n",
              "    }\n",
              "\n",
              "    .dataframe tbody tr th {\n",
              "        vertical-align: top;\n",
              "    }\n",
              "\n",
              "    .dataframe thead th {\n",
              "        text-align: right;\n",
              "    }\n",
              "</style>\n",
              "<table border=\"1\" class=\"dataframe\">\n",
              "  <thead>\n",
              "    <tr style=\"text-align: right;\">\n",
              "      <th></th>\n",
              "      <th>Attrition</th>\n",
              "      <th>Attr 1 Difference</th>\n",
              "      <th>Seasonal First Difference</th>\n",
              "      <th>forecast</th>\n",
              "      <th>forecast_s</th>\n",
              "      <th>HWES1</th>\n",
              "      <th>HWES2_ADD</th>\n",
              "      <th>HWES2_MUL</th>\n",
              "      <th>HWES3_ADD</th>\n",
              "      <th>HWES3_MUL</th>\n",
              "    </tr>\n",
              "    <tr>\n",
              "      <th>Month</th>\n",
              "      <th></th>\n",
              "      <th></th>\n",
              "      <th></th>\n",
              "      <th></th>\n",
              "      <th></th>\n",
              "      <th></th>\n",
              "      <th></th>\n",
              "      <th></th>\n",
              "      <th></th>\n",
              "      <th></th>\n",
              "    </tr>\n",
              "  </thead>\n",
              "  <tbody>\n",
              "    <tr>\n",
              "      <th>2021-04-01</th>\n",
              "      <td>56</td>\n",
              "      <td>NaN</td>\n",
              "      <td>NaN</td>\n",
              "      <td>NaN</td>\n",
              "      <td>NaN</td>\n",
              "      <td>56.000000</td>\n",
              "      <td>78.115535</td>\n",
              "      <td>81.059410</td>\n",
              "      <td>73.599250</td>\n",
              "      <td>78.643378</td>\n",
              "    </tr>\n",
              "    <tr>\n",
              "      <th>2021-05-01</th>\n",
              "      <td>99</td>\n",
              "      <td>43.0</td>\n",
              "      <td>NaN</td>\n",
              "      <td>76.313992</td>\n",
              "      <td>NaN</td>\n",
              "      <td>56.000000</td>\n",
              "      <td>82.821811</td>\n",
              "      <td>84.652630</td>\n",
              "      <td>90.599635</td>\n",
              "      <td>90.215087</td>\n",
              "    </tr>\n",
              "    <tr>\n",
              "      <th>2021-06-01</th>\n",
              "      <td>87</td>\n",
              "      <td>-12.0</td>\n",
              "      <td>NaN</td>\n",
              "      <td>87.467596</td>\n",
              "      <td>NaN</td>\n",
              "      <td>63.166667</td>\n",
              "      <td>87.528088</td>\n",
              "      <td>88.405130</td>\n",
              "      <td>85.099671</td>\n",
              "      <td>86.443003</td>\n",
              "    </tr>\n",
              "    <tr>\n",
              "      <th>2021-07-01</th>\n",
              "      <td>100</td>\n",
              "      <td>13.0</td>\n",
              "      <td>44.0</td>\n",
              "      <td>93.591597</td>\n",
              "      <td>113.166930</td>\n",
              "      <td>67.138889</td>\n",
              "      <td>92.234364</td>\n",
              "      <td>92.323973</td>\n",
              "      <td>87.532826</td>\n",
              "      <td>89.340374</td>\n",
              "    </tr>\n",
              "    <tr>\n",
              "      <th>2021-08-01</th>\n",
              "      <td>106</td>\n",
              "      <td>6.0</td>\n",
              "      <td>7.0</td>\n",
              "      <td>96.954042</td>\n",
              "      <td>84.472273</td>\n",
              "      <td>72.615741</td>\n",
              "      <td>96.940641</td>\n",
              "      <td>96.416530</td>\n",
              "      <td>104.533211</td>\n",
              "      <td>102.486056</td>\n",
              "    </tr>\n",
              "    <tr>\n",
              "      <th>2021-09-01</th>\n",
              "      <td>95</td>\n",
              "      <td>-11.0</td>\n",
              "      <td>8.0</td>\n",
              "      <td>98.800227</td>\n",
              "      <td>110.854278</td>\n",
              "      <td>78.179784</td>\n",
              "      <td>101.646917</td>\n",
              "      <td>100.690504</td>\n",
              "      <td>99.033247</td>\n",
              "      <td>98.200897</td>\n",
              "    </tr>\n",
              "    <tr>\n",
              "      <th>2021-10-01</th>\n",
              "      <td>85</td>\n",
              "      <td>-10.0</td>\n",
              "      <td>-15.0</td>\n",
              "      <td>99.813893</td>\n",
              "      <td>82.356396</td>\n",
              "      <td>80.983153</td>\n",
              "      <td>106.353193</td>\n",
              "      <td>105.153935</td>\n",
              "      <td>101.466402</td>\n",
              "      <td>101.492366</td>\n",
              "    </tr>\n",
              "    <tr>\n",
              "      <th>2021-11-01</th>\n",
              "      <td>125</td>\n",
              "      <td>40.0</td>\n",
              "      <td>19.0</td>\n",
              "      <td>100.370457</td>\n",
              "      <td>108.918433</td>\n",
              "      <td>81.652628</td>\n",
              "      <td>111.059469</td>\n",
              "      <td>109.815222</td>\n",
              "      <td>118.466787</td>\n",
              "      <td>116.426111</td>\n",
              "    </tr>\n",
              "    <tr>\n",
              "      <th>2021-12-01</th>\n",
              "      <td>125</td>\n",
              "      <td>0.0</td>\n",
              "      <td>30.0</td>\n",
              "      <td>100.676044</td>\n",
              "      <td>80.585265</td>\n",
              "      <td>88.877190</td>\n",
              "      <td>115.765746</td>\n",
              "      <td>114.683135</td>\n",
              "      <td>112.966823</td>\n",
              "      <td>111.558088</td>\n",
              "    </tr>\n",
              "    <tr>\n",
              "      <th>2022-01-01</th>\n",
              "      <td>137</td>\n",
              "      <td>12.0</td>\n",
              "      <td>52.0</td>\n",
              "      <td>100.843830</td>\n",
              "      <td>107.298001</td>\n",
              "      <td>94.897658</td>\n",
              "      <td>120.472022</td>\n",
              "      <td>119.766835</td>\n",
              "      <td>115.399979</td>\n",
              "      <td>115.297259</td>\n",
              "    </tr>\n",
              "    <tr>\n",
              "      <th>2022-02-01</th>\n",
              "      <td>116</td>\n",
              "      <td>-21.0</td>\n",
              "      <td>-9.0</td>\n",
              "      <td>100.935955</td>\n",
              "      <td>79.102709</td>\n",
              "      <td>101.914715</td>\n",
              "      <td>125.178299</td>\n",
              "      <td>125.075886</td>\n",
              "      <td>132.400364</td>\n",
              "      <td>132.262279</td>\n",
              "    </tr>\n",
              "    <tr>\n",
              "      <th>2022-03-01</th>\n",
              "      <td>117</td>\n",
              "      <td>1.0</td>\n",
              "      <td>-8.0</td>\n",
              "      <td>100.986536</td>\n",
              "      <td>105.941590</td>\n",
              "      <td>104.262263</td>\n",
              "      <td>129.884575</td>\n",
              "      <td>130.620278</td>\n",
              "      <td>126.900400</td>\n",
              "      <td>126.732112</td>\n",
              "    </tr>\n",
              "  </tbody>\n",
              "</table>\n",
              "</div>\n",
              "      <button class=\"colab-df-convert\" onclick=\"convertToInteractive('df-5ec640b0-a6fc-4ae8-956f-13979cf94850')\"\n",
              "              title=\"Convert this dataframe to an interactive table.\"\n",
              "              style=\"display:none;\">\n",
              "        \n",
              "  <svg xmlns=\"http://www.w3.org/2000/svg\" height=\"24px\"viewBox=\"0 0 24 24\"\n",
              "       width=\"24px\">\n",
              "    <path d=\"M0 0h24v24H0V0z\" fill=\"none\"/>\n",
              "    <path d=\"M18.56 5.44l.94 2.06.94-2.06 2.06-.94-2.06-.94-.94-2.06-.94 2.06-2.06.94zm-11 1L8.5 8.5l.94-2.06 2.06-.94-2.06-.94L8.5 2.5l-.94 2.06-2.06.94zm10 10l.94 2.06.94-2.06 2.06-.94-2.06-.94-.94-2.06-.94 2.06-2.06.94z\"/><path d=\"M17.41 7.96l-1.37-1.37c-.4-.4-.92-.59-1.43-.59-.52 0-1.04.2-1.43.59L10.3 9.45l-7.72 7.72c-.78.78-.78 2.05 0 2.83L4 21.41c.39.39.9.59 1.41.59.51 0 1.02-.2 1.41-.59l7.78-7.78 2.81-2.81c.8-.78.8-2.07 0-2.86zM5.41 20L4 18.59l7.72-7.72 1.47 1.35L5.41 20z\"/>\n",
              "  </svg>\n",
              "      </button>\n",
              "      \n",
              "  <style>\n",
              "    .colab-df-container {\n",
              "      display:flex;\n",
              "      flex-wrap:wrap;\n",
              "      gap: 12px;\n",
              "    }\n",
              "\n",
              "    .colab-df-convert {\n",
              "      background-color: #E8F0FE;\n",
              "      border: none;\n",
              "      border-radius: 50%;\n",
              "      cursor: pointer;\n",
              "      display: none;\n",
              "      fill: #1967D2;\n",
              "      height: 32px;\n",
              "      padding: 0 0 0 0;\n",
              "      width: 32px;\n",
              "    }\n",
              "\n",
              "    .colab-df-convert:hover {\n",
              "      background-color: #E2EBFA;\n",
              "      box-shadow: 0px 1px 2px rgba(60, 64, 67, 0.3), 0px 1px 3px 1px rgba(60, 64, 67, 0.15);\n",
              "      fill: #174EA6;\n",
              "    }\n",
              "\n",
              "    [theme=dark] .colab-df-convert {\n",
              "      background-color: #3B4455;\n",
              "      fill: #D2E3FC;\n",
              "    }\n",
              "\n",
              "    [theme=dark] .colab-df-convert:hover {\n",
              "      background-color: #434B5C;\n",
              "      box-shadow: 0px 1px 3px 1px rgba(0, 0, 0, 0.15);\n",
              "      filter: drop-shadow(0px 1px 2px rgba(0, 0, 0, 0.3));\n",
              "      fill: #FFFFFF;\n",
              "    }\n",
              "  </style>\n",
              "\n",
              "      <script>\n",
              "        const buttonEl =\n",
              "          document.querySelector('#df-5ec640b0-a6fc-4ae8-956f-13979cf94850 button.colab-df-convert');\n",
              "        buttonEl.style.display =\n",
              "          google.colab.kernel.accessAllowed ? 'block' : 'none';\n",
              "\n",
              "        async function convertToInteractive(key) {\n",
              "          const element = document.querySelector('#df-5ec640b0-a6fc-4ae8-956f-13979cf94850');\n",
              "          const dataTable =\n",
              "            await google.colab.kernel.invokeFunction('convertToInteractive',\n",
              "                                                     [key], {});\n",
              "          if (!dataTable) return;\n",
              "\n",
              "          const docLinkHtml = 'Like what you see? Visit the ' +\n",
              "            '<a target=\"_blank\" href=https://colab.research.google.com/notebooks/data_table.ipynb>data table notebook</a>'\n",
              "            + ' to learn more about interactive tables.';\n",
              "          element.innerHTML = '';\n",
              "          dataTable['output_type'] = 'display_data';\n",
              "          await google.colab.output.renderOutput(dataTable, element);\n",
              "          const docLink = document.createElement('div');\n",
              "          docLink.innerHTML = docLinkHtml;\n",
              "          element.appendChild(docLink);\n",
              "        }\n",
              "      </script>\n",
              "    </div>\n",
              "  </div>\n",
              "  "
            ],
            "application/vnd.google.colaboratory.module+javascript": "\n      import \"https://ssl.gstatic.com/colaboratory/data_table/a8bd4d5e58f96183/data_table.js\";\n\n      window.createDataTable({\n        data: [[\"2021-04-01 00:00:00\",\n{\n            'v': 56,\n            'f': \"56\",\n        },\n{\n            'v': NaN,\n            'f': \"NaN\",\n        },\n{\n            'v': NaN,\n            'f': \"NaN\",\n        },\n{\n            'v': NaN,\n            'f': \"NaN\",\n        },\n{\n            'v': NaN,\n            'f': \"NaN\",\n        },\n{\n            'v': 56.0,\n            'f': \"56.0\",\n        },\n{\n            'v': 78.11553525748621,\n            'f': \"78.11553525748621\",\n        },\n{\n            'v': 81.05941045389532,\n            'f': \"81.05941045389532\",\n        },\n{\n            'v': 73.59924984279081,\n            'f': \"73.59924984279081\",\n        },\n{\n            'v': 78.64337766303863,\n            'f': \"78.64337766303863\",\n        }],\n [\"2021-05-01 00:00:00\",\n{\n            'v': 99,\n            'f': \"99\",\n        },\n{\n            'v': 43.0,\n            'f': \"43.0\",\n        },\n{\n            'v': NaN,\n            'f': \"NaN\",\n        },\n{\n            'v': 76.31399186461694,\n            'f': \"76.31399186461694\",\n        },\n{\n            'v': NaN,\n            'f': \"NaN\",\n        },\n{\n            'v': 56.0,\n            'f': \"56.0\",\n        },\n{\n            'v': 82.82181125553178,\n            'f': \"82.82181125553178\",\n        },\n{\n            'v': 84.65262963607866,\n            'f': \"84.65262963607866\",\n        },\n{\n            'v': 90.59963482074171,\n            'f': \"90.59963482074171\",\n        },\n{\n            'v': 90.2150868213241,\n            'f': \"90.2150868213241\",\n        }],\n [\"2021-06-01 00:00:00\",\n{\n            'v': 87,\n            'f': \"87\",\n        },\n{\n            'v': -12.0,\n            'f': \"-12.0\",\n        },\n{\n            'v': NaN,\n            'f': \"NaN\",\n        },\n{\n            'v': 87.46759646447812,\n            'f': \"87.46759646447812\",\n        },\n{\n            'v': NaN,\n            'f': \"NaN\",\n        },\n{\n            'v': 63.16666666666667,\n            'f': \"63.16666666666667\",\n        },\n{\n            'v': 87.5280878241983,\n            'f': \"87.5280878241983\",\n        },\n{\n            'v': 88.40513045044693,\n            'f': \"88.40513045044693\",\n        },\n{\n            'v': 85.09967094026612,\n            'f': \"85.09967094026612\",\n        },\n{\n            'v': 86.44300262215576,\n            'f': \"86.44300262215576\",\n        }],\n [\"2021-07-01 00:00:00\",\n{\n            'v': 100,\n            'f': \"100\",\n        },\n{\n            'v': 13.0,\n            'f': \"13.0\",\n        },\n{\n            'v': 44.0,\n            'f': \"44.0\",\n        },\n{\n            'v': 93.59159692677673,\n            'f': \"93.59159692677673\",\n        },\n{\n            'v': 113.16693043695624,\n            'f': \"113.16693043695624\",\n        },\n{\n            'v': 67.13888888888889,\n            'f': \"67.13888888888889\",\n        },\n{\n            'v': 92.2343641439219,\n            'f': \"92.2343641439219\",\n        },\n{\n            'v': 92.32397271023949,\n            'f': \"92.32397271023949\",\n        },\n{\n            'v': 87.53282596335268,\n            'f': \"87.53282596335268\",\n        },\n{\n            'v': 89.34037382058594,\n            'f': \"89.34037382058594\",\n        }],\n [\"2021-08-01 00:00:00\",\n{\n            'v': 106,\n            'f': \"106\",\n        },\n{\n            'v': 6.0,\n            'f': \"6.0\",\n        },\n{\n            'v': 7.0,\n            'f': \"7.0\",\n        },\n{\n            'v': 96.9540418948098,\n            'f': \"96.9540418948098\",\n        },\n{\n            'v': 84.47227326299972,\n            'f': \"84.47227326299972\",\n        },\n{\n            'v': 72.61574074074073,\n            'f': \"72.61574074074073\",\n        },\n{\n            'v': 96.9406405872316,\n            'f': \"96.9406405872316\",\n        },\n{\n            'v': 96.4165304224932,\n            'f': \"96.4165304224932\",\n        },\n{\n            'v': 104.53321138932823,\n            'f': \"104.53321138932823\",\n        },\n{\n            'v': 102.48605628712285,\n            'f': \"102.48605628712285\",\n        }],\n [\"2021-09-01 00:00:00\",\n{\n            'v': 95,\n            'f': \"95\",\n        },\n{\n            'v': -11.0,\n            'f': \"-11.0\",\n        },\n{\n            'v': 8.0,\n            'f': \"8.0\",\n        },\n{\n            'v': 98.80022662857242,\n            'f': \"98.80022662857242\",\n        },\n{\n            'v': 110.85427845365444,\n            'f': \"110.85427845365444\",\n        },\n{\n            'v': 78.17978395061728,\n            'f': \"78.17978395061728\",\n        },\n{\n            'v': 101.6469170498193,\n            'f': \"101.6469170498193\",\n        },\n{\n            'v': 100.69050397277942,\n            'f': \"100.69050397277942\",\n        },\n{\n            'v': 99.03324740553433,\n            'f': \"99.03324740553433\",\n        },\n{\n            'v': 98.20089672561734,\n            'f': \"98.20089672561734\",\n        }],\n [\"2021-10-01 00:00:00\",\n{\n            'v': 85,\n            'f': \"85\",\n        },\n{\n            'v': -10.0,\n            'f': \"-10.0\",\n        },\n{\n            'v': -15.0,\n            'f': \"-15.0\",\n        },\n{\n            'v': 99.81389320262252,\n            'f': \"99.81389320262252\",\n        },\n{\n            'v': 82.35639613214468,\n            'f': \"82.35639613214468\",\n        },\n{\n            'v': 80.98315329218106,\n            'f': \"80.98315329218106\",\n        },\n{\n            'v': 106.35319327836523,\n            'f': \"106.35319327836523\",\n        },\n{\n            'v': 105.15393493533666,\n            'f': \"105.15393493533666\",\n        },\n{\n            'v': 101.46640234020371,\n            'f': \"101.46640234020371\",\n        },\n{\n            'v': 101.49236550965334,\n            'f': \"101.49236550965334\",\n        }],\n [\"2021-11-01 00:00:00\",\n{\n            'v': 125,\n            'f': \"125\",\n        },\n{\n            'v': 40.0,\n            'f': \"40.0\",\n        },\n{\n            'v': 19.0,\n            'f': \"19.0\",\n        },\n{\n            'v': 100.3704571826812,\n            'f': \"100.3704571826812\",\n        },\n{\n            'v': 108.91843334371119,\n            'f': \"108.91843334371119\",\n        },\n{\n            'v': 81.65262774348422,\n            'f': \"81.65262774348422\",\n        },\n{\n            'v': 111.05946928777057,\n            'f': \"111.05946928777057\",\n        },\n{\n            'v': 109.81522163307999,\n            'f': \"109.81522163307999\",\n        },\n{\n            'v': 118.46678733503536,\n            'f': \"118.46678733503536\",\n        },\n{\n            'v': 116.42611056837912,\n            'f': \"116.42611056837912\",\n        }],\n [\"2021-12-01 00:00:00\",\n{\n            'v': 125,\n            'f': \"125\",\n        },\n{\n            'v': 0.0,\n            'f': \"0.0\",\n        },\n{\n            'v': 30.0,\n            'f': \"30.0\",\n        },\n{\n            'v': 100.67604431737492,\n            'f': \"100.67604431737492\",\n        },\n{\n            'v': 80.5852647960936,\n            'f': \"80.5852647960936\",\n        },\n{\n            'v': 88.87718978623684,\n            'f': \"88.87718978623684\",\n        },\n{\n            'v': 115.76574582309338,\n            'f': \"115.76574582309338\",\n        },\n{\n            'v': 114.68313543404298,\n            'f': \"114.68313543404298\",\n        },\n{\n            'v': 112.96682342673705,\n            'f': \"112.96682342673705\",\n        },\n{\n            'v': 111.55808781210857,\n            'f': \"111.55808781210857\",\n        }],\n [\"2022-01-01 00:00:00\",\n{\n            'v': 137,\n            'f': \"137\",\n        },\n{\n            'v': 12.0,\n            'f': \"12.0\",\n        },\n{\n            'v': 52.0,\n            'f': \"52.0\",\n        },\n{\n            'v': 100.84383005313249,\n            'f': \"100.84383005313249\",\n        },\n{\n            'v': 107.29800090651375,\n            'f': \"107.29800090651375\",\n        },\n{\n            'v': 94.89765815519736,\n            'f': \"94.89765815519736\",\n        },\n{\n            'v': 120.4720222882872,\n            'f': \"120.4720222882872\",\n        },\n{\n            'v': 119.76683512472219,\n            'f': \"119.76683512472219\",\n        },\n{\n            'v': 115.3999786008148,\n            'f': \"115.3999786008148\",\n        },\n{\n            'v': 115.29725926279848,\n            'f': \"115.29725926279848\",\n        }],\n [\"2022-02-01 00:00:00\",\n{\n            'v': 116,\n            'f': \"116\",\n        },\n{\n            'v': -21.0,\n            'f': \"-21.0\",\n        },\n{\n            'v': -9.0,\n            'f': \"-9.0\",\n        },\n{\n            'v': 100.93595452411824,\n            'f': \"100.93595452411824\",\n        },\n{\n            'v': 79.10270885567637,\n            'f': \"79.10270885567637\",\n        },\n{\n            'v': 101.91471512933113,\n            'f': \"101.91471512933113\",\n        },\n{\n            'v': 125.17829886216599,\n            'f': \"125.17829886216599\",\n        },\n{\n            'v': 125.0758862934047,\n            'f': \"125.0758862934047\",\n        },\n{\n            'v': 132.40036416288038,\n            'f': \"132.40036416288038\",\n        },\n{\n            'v': 132.26227862469898,\n            'f': \"132.26227862469898\",\n        }],\n [\"2022-03-01 00:00:00\",\n{\n            'v': 117,\n            'f': \"117\",\n        },\n{\n            'v': 1.0,\n            'f': \"1.0\",\n        },\n{\n            'v': -8.0,\n            'f': \"-8.0\",\n        },\n{\n            'v': 100.98653640532577,\n            'f': \"100.98653640532577\",\n        },\n{\n            'v': 105.94159007073226,\n            'f': \"105.94159007073226\",\n        },\n{\n            'v': 104.26226260777594,\n            'f': \"104.26226260777594\",\n        },\n{\n            'v': 129.88457505299138,\n            'f': \"129.88457505299138\",\n        },\n{\n            'v': 130.62027785347678,\n            'f': \"130.62027785347678\",\n        },\n{\n            'v': 126.90039991284513,\n            'f': \"126.90039991284513\",\n        },\n{\n            'v': 126.73211170404065,\n            'f': \"126.73211170404065\",\n        }]],\n        columns: [[\"string\", \"Month\"], [\"number\", \"Attrition\"], [\"number\", \"Attr 1 Difference\"], [\"number\", \"Seasonal First Difference\"], [\"number\", \"forecast\"], [\"number\", \"forecast_s\"], [\"number\", \"HWES1\"], [\"number\", \"HWES2_ADD\"], [\"number\", \"HWES2_MUL\"], [\"number\", \"HWES3_ADD\"], [\"number\", \"HWES3_MUL\"]],\n        columnOptions: [{\"width\": \"1px\", \"className\": \"index_column\"}],\n        rowsPerPage: 25,\n        helpUrl: \"https://colab.research.google.com/notebooks/data_table.ipynb\",\n        suppressOutputScrolling: true,\n        minimumWidth: undefined,\n      });\n    "
          },
          "metadata": {},
          "execution_count": 77
        }
      ]
    },
    {
      "cell_type": "code",
      "source": [
        "# forecasting result for Exponential Smoothing\n",
        "\n",
        "fitted_model = ExponentialSmoothing(df['Attrition'],trend='mul',seasonal='mul',seasonal_periods=3).fit()\n",
        "\n",
        "test_predictions = fitted_model.forecast(3)"
      ],
      "metadata": {
        "id": "rtc3_jLF08DQ"
      },
      "execution_count": null,
      "outputs": []
    },
    {
      "cell_type": "code",
      "source": [
        "test_predictions"
      ],
      "metadata": {
        "colab": {
          "base_uri": "https://localhost:8080/"
        },
        "id": "zZewtCnN1G48",
        "outputId": "e9710464-0f5d-4ca1-dd49-6f0c2f619a8f"
      },
      "execution_count": null,
      "outputs": [
        {
          "output_type": "execute_result",
          "data": {
            "text/plain": [
              "2022-04-01    130.979881\n",
              "2022-05-01    150.252466\n",
              "2022-06-01    143.970091\n",
              "Freq: MS, dtype: float64"
            ]
          },
          "metadata": {},
          "execution_count": 79
        }
      ]
    },
    {
      "cell_type": "code",
      "source": [
        "from google.colab import data_table\n",
        "data_table.enable_dataframe_formatter()"
      ],
      "metadata": {
        "id": "cOhA3Ovo8tZh"
      },
      "execution_count": null,
      "outputs": []
    },
    {
      "cell_type": "code",
      "source": [
        "# consolidated result for all the timeseries model for comparison\n",
        "\n",
        "df"
      ],
      "metadata": {
        "colab": {
          "base_uri": "https://localhost:8080/",
          "height": 365
        },
        "id": "dmp2eKKP8wyh",
        "outputId": "655c4b16-92b5-4ff6-a139-534dba879908"
      },
      "execution_count": null,
      "outputs": [
        {
          "output_type": "execute_result",
          "data": {
            "text/plain": [
              "            Attrition  Attr 1 Difference  Seasonal First Difference  \\\n",
              "Month                                                                 \n",
              "2021-04-01         56                NaN                        NaN   \n",
              "2021-05-01         99               43.0                        NaN   \n",
              "2021-06-01         87              -12.0                        NaN   \n",
              "2021-07-01        100               13.0                       44.0   \n",
              "2021-08-01        106                6.0                        7.0   \n",
              "2021-09-01         95              -11.0                        8.0   \n",
              "2021-10-01         85              -10.0                      -15.0   \n",
              "2021-11-01        125               40.0                       19.0   \n",
              "2021-12-01        125                0.0                       30.0   \n",
              "2022-01-01        137               12.0                       52.0   \n",
              "2022-02-01        116              -21.0                       -9.0   \n",
              "2022-03-01        117                1.0                       -8.0   \n",
              "\n",
              "              forecast  forecast_s       HWES1   HWES2_ADD   HWES2_MUL  \\\n",
              "Month                                                                    \n",
              "2021-04-01         NaN         NaN   56.000000   78.115535   81.059410   \n",
              "2021-05-01   76.313992         NaN   56.000000   82.821811   84.652630   \n",
              "2021-06-01   87.467596         NaN   63.166667   87.528088   88.405130   \n",
              "2021-07-01   93.591597  113.166930   67.138889   92.234364   92.323973   \n",
              "2021-08-01   96.954042   84.472273   72.615741   96.940641   96.416530   \n",
              "2021-09-01   98.800227  110.854278   78.179784  101.646917  100.690504   \n",
              "2021-10-01   99.813893   82.356396   80.983153  106.353193  105.153935   \n",
              "2021-11-01  100.370457  108.918433   81.652628  111.059469  109.815222   \n",
              "2021-12-01  100.676044   80.585265   88.877190  115.765746  114.683135   \n",
              "2022-01-01  100.843830  107.298001   94.897658  120.472022  119.766835   \n",
              "2022-02-01  100.935955   79.102709  101.914715  125.178299  125.075886   \n",
              "2022-03-01  100.986536  105.941590  104.262263  129.884575  130.620278   \n",
              "\n",
              "             HWES3_ADD   HWES3_MUL  \n",
              "Month                               \n",
              "2021-04-01   73.599250   78.643378  \n",
              "2021-05-01   90.599635   90.215087  \n",
              "2021-06-01   85.099671   86.443003  \n",
              "2021-07-01   87.532826   89.340374  \n",
              "2021-08-01  104.533211  102.486056  \n",
              "2021-09-01   99.033247   98.200897  \n",
              "2021-10-01  101.466402  101.492366  \n",
              "2021-11-01  118.466787  116.426111  \n",
              "2021-12-01  112.966823  111.558088  \n",
              "2022-01-01  115.399979  115.297259  \n",
              "2022-02-01  132.400364  132.262279  \n",
              "2022-03-01  126.900400  126.732112  "
            ],
            "text/html": [
              "\n",
              "  <div id=\"df-dbbccd5b-d8dd-4152-8987-1848575f7286\">\n",
              "    <div class=\"colab-df-container\">\n",
              "      <div>\n",
              "<style scoped>\n",
              "    .dataframe tbody tr th:only-of-type {\n",
              "        vertical-align: middle;\n",
              "    }\n",
              "\n",
              "    .dataframe tbody tr th {\n",
              "        vertical-align: top;\n",
              "    }\n",
              "\n",
              "    .dataframe thead th {\n",
              "        text-align: right;\n",
              "    }\n",
              "</style>\n",
              "<table border=\"1\" class=\"dataframe\">\n",
              "  <thead>\n",
              "    <tr style=\"text-align: right;\">\n",
              "      <th></th>\n",
              "      <th>Attrition</th>\n",
              "      <th>Attr 1 Difference</th>\n",
              "      <th>Seasonal First Difference</th>\n",
              "      <th>forecast</th>\n",
              "      <th>forecast_s</th>\n",
              "      <th>HWES1</th>\n",
              "      <th>HWES2_ADD</th>\n",
              "      <th>HWES2_MUL</th>\n",
              "      <th>HWES3_ADD</th>\n",
              "      <th>HWES3_MUL</th>\n",
              "    </tr>\n",
              "    <tr>\n",
              "      <th>Month</th>\n",
              "      <th></th>\n",
              "      <th></th>\n",
              "      <th></th>\n",
              "      <th></th>\n",
              "      <th></th>\n",
              "      <th></th>\n",
              "      <th></th>\n",
              "      <th></th>\n",
              "      <th></th>\n",
              "      <th></th>\n",
              "    </tr>\n",
              "  </thead>\n",
              "  <tbody>\n",
              "    <tr>\n",
              "      <th>2021-04-01</th>\n",
              "      <td>56</td>\n",
              "      <td>NaN</td>\n",
              "      <td>NaN</td>\n",
              "      <td>NaN</td>\n",
              "      <td>NaN</td>\n",
              "      <td>56.000000</td>\n",
              "      <td>78.115535</td>\n",
              "      <td>81.059410</td>\n",
              "      <td>73.599250</td>\n",
              "      <td>78.643378</td>\n",
              "    </tr>\n",
              "    <tr>\n",
              "      <th>2021-05-01</th>\n",
              "      <td>99</td>\n",
              "      <td>43.0</td>\n",
              "      <td>NaN</td>\n",
              "      <td>76.313992</td>\n",
              "      <td>NaN</td>\n",
              "      <td>56.000000</td>\n",
              "      <td>82.821811</td>\n",
              "      <td>84.652630</td>\n",
              "      <td>90.599635</td>\n",
              "      <td>90.215087</td>\n",
              "    </tr>\n",
              "    <tr>\n",
              "      <th>2021-06-01</th>\n",
              "      <td>87</td>\n",
              "      <td>-12.0</td>\n",
              "      <td>NaN</td>\n",
              "      <td>87.467596</td>\n",
              "      <td>NaN</td>\n",
              "      <td>63.166667</td>\n",
              "      <td>87.528088</td>\n",
              "      <td>88.405130</td>\n",
              "      <td>85.099671</td>\n",
              "      <td>86.443003</td>\n",
              "    </tr>\n",
              "    <tr>\n",
              "      <th>2021-07-01</th>\n",
              "      <td>100</td>\n",
              "      <td>13.0</td>\n",
              "      <td>44.0</td>\n",
              "      <td>93.591597</td>\n",
              "      <td>113.166930</td>\n",
              "      <td>67.138889</td>\n",
              "      <td>92.234364</td>\n",
              "      <td>92.323973</td>\n",
              "      <td>87.532826</td>\n",
              "      <td>89.340374</td>\n",
              "    </tr>\n",
              "    <tr>\n",
              "      <th>2021-08-01</th>\n",
              "      <td>106</td>\n",
              "      <td>6.0</td>\n",
              "      <td>7.0</td>\n",
              "      <td>96.954042</td>\n",
              "      <td>84.472273</td>\n",
              "      <td>72.615741</td>\n",
              "      <td>96.940641</td>\n",
              "      <td>96.416530</td>\n",
              "      <td>104.533211</td>\n",
              "      <td>102.486056</td>\n",
              "    </tr>\n",
              "    <tr>\n",
              "      <th>2021-09-01</th>\n",
              "      <td>95</td>\n",
              "      <td>-11.0</td>\n",
              "      <td>8.0</td>\n",
              "      <td>98.800227</td>\n",
              "      <td>110.854278</td>\n",
              "      <td>78.179784</td>\n",
              "      <td>101.646917</td>\n",
              "      <td>100.690504</td>\n",
              "      <td>99.033247</td>\n",
              "      <td>98.200897</td>\n",
              "    </tr>\n",
              "    <tr>\n",
              "      <th>2021-10-01</th>\n",
              "      <td>85</td>\n",
              "      <td>-10.0</td>\n",
              "      <td>-15.0</td>\n",
              "      <td>99.813893</td>\n",
              "      <td>82.356396</td>\n",
              "      <td>80.983153</td>\n",
              "      <td>106.353193</td>\n",
              "      <td>105.153935</td>\n",
              "      <td>101.466402</td>\n",
              "      <td>101.492366</td>\n",
              "    </tr>\n",
              "    <tr>\n",
              "      <th>2021-11-01</th>\n",
              "      <td>125</td>\n",
              "      <td>40.0</td>\n",
              "      <td>19.0</td>\n",
              "      <td>100.370457</td>\n",
              "      <td>108.918433</td>\n",
              "      <td>81.652628</td>\n",
              "      <td>111.059469</td>\n",
              "      <td>109.815222</td>\n",
              "      <td>118.466787</td>\n",
              "      <td>116.426111</td>\n",
              "    </tr>\n",
              "    <tr>\n",
              "      <th>2021-12-01</th>\n",
              "      <td>125</td>\n",
              "      <td>0.0</td>\n",
              "      <td>30.0</td>\n",
              "      <td>100.676044</td>\n",
              "      <td>80.585265</td>\n",
              "      <td>88.877190</td>\n",
              "      <td>115.765746</td>\n",
              "      <td>114.683135</td>\n",
              "      <td>112.966823</td>\n",
              "      <td>111.558088</td>\n",
              "    </tr>\n",
              "    <tr>\n",
              "      <th>2022-01-01</th>\n",
              "      <td>137</td>\n",
              "      <td>12.0</td>\n",
              "      <td>52.0</td>\n",
              "      <td>100.843830</td>\n",
              "      <td>107.298001</td>\n",
              "      <td>94.897658</td>\n",
              "      <td>120.472022</td>\n",
              "      <td>119.766835</td>\n",
              "      <td>115.399979</td>\n",
              "      <td>115.297259</td>\n",
              "    </tr>\n",
              "    <tr>\n",
              "      <th>2022-02-01</th>\n",
              "      <td>116</td>\n",
              "      <td>-21.0</td>\n",
              "      <td>-9.0</td>\n",
              "      <td>100.935955</td>\n",
              "      <td>79.102709</td>\n",
              "      <td>101.914715</td>\n",
              "      <td>125.178299</td>\n",
              "      <td>125.075886</td>\n",
              "      <td>132.400364</td>\n",
              "      <td>132.262279</td>\n",
              "    </tr>\n",
              "    <tr>\n",
              "      <th>2022-03-01</th>\n",
              "      <td>117</td>\n",
              "      <td>1.0</td>\n",
              "      <td>-8.0</td>\n",
              "      <td>100.986536</td>\n",
              "      <td>105.941590</td>\n",
              "      <td>104.262263</td>\n",
              "      <td>129.884575</td>\n",
              "      <td>130.620278</td>\n",
              "      <td>126.900400</td>\n",
              "      <td>126.732112</td>\n",
              "    </tr>\n",
              "  </tbody>\n",
              "</table>\n",
              "</div>\n",
              "      <button class=\"colab-df-convert\" onclick=\"convertToInteractive('df-dbbccd5b-d8dd-4152-8987-1848575f7286')\"\n",
              "              title=\"Convert this dataframe to an interactive table.\"\n",
              "              style=\"display:none;\">\n",
              "        \n",
              "  <svg xmlns=\"http://www.w3.org/2000/svg\" height=\"24px\"viewBox=\"0 0 24 24\"\n",
              "       width=\"24px\">\n",
              "    <path d=\"M0 0h24v24H0V0z\" fill=\"none\"/>\n",
              "    <path d=\"M18.56 5.44l.94 2.06.94-2.06 2.06-.94-2.06-.94-.94-2.06-.94 2.06-2.06.94zm-11 1L8.5 8.5l.94-2.06 2.06-.94-2.06-.94L8.5 2.5l-.94 2.06-2.06.94zm10 10l.94 2.06.94-2.06 2.06-.94-2.06-.94-.94-2.06-.94 2.06-2.06.94z\"/><path d=\"M17.41 7.96l-1.37-1.37c-.4-.4-.92-.59-1.43-.59-.52 0-1.04.2-1.43.59L10.3 9.45l-7.72 7.72c-.78.78-.78 2.05 0 2.83L4 21.41c.39.39.9.59 1.41.59.51 0 1.02-.2 1.41-.59l7.78-7.78 2.81-2.81c.8-.78.8-2.07 0-2.86zM5.41 20L4 18.59l7.72-7.72 1.47 1.35L5.41 20z\"/>\n",
              "  </svg>\n",
              "      </button>\n",
              "      \n",
              "  <style>\n",
              "    .colab-df-container {\n",
              "      display:flex;\n",
              "      flex-wrap:wrap;\n",
              "      gap: 12px;\n",
              "    }\n",
              "\n",
              "    .colab-df-convert {\n",
              "      background-color: #E8F0FE;\n",
              "      border: none;\n",
              "      border-radius: 50%;\n",
              "      cursor: pointer;\n",
              "      display: none;\n",
              "      fill: #1967D2;\n",
              "      height: 32px;\n",
              "      padding: 0 0 0 0;\n",
              "      width: 32px;\n",
              "    }\n",
              "\n",
              "    .colab-df-convert:hover {\n",
              "      background-color: #E2EBFA;\n",
              "      box-shadow: 0px 1px 2px rgba(60, 64, 67, 0.3), 0px 1px 3px 1px rgba(60, 64, 67, 0.15);\n",
              "      fill: #174EA6;\n",
              "    }\n",
              "\n",
              "    [theme=dark] .colab-df-convert {\n",
              "      background-color: #3B4455;\n",
              "      fill: #D2E3FC;\n",
              "    }\n",
              "\n",
              "    [theme=dark] .colab-df-convert:hover {\n",
              "      background-color: #434B5C;\n",
              "      box-shadow: 0px 1px 3px 1px rgba(0, 0, 0, 0.15);\n",
              "      filter: drop-shadow(0px 1px 2px rgba(0, 0, 0, 0.3));\n",
              "      fill: #FFFFFF;\n",
              "    }\n",
              "  </style>\n",
              "\n",
              "      <script>\n",
              "        const buttonEl =\n",
              "          document.querySelector('#df-dbbccd5b-d8dd-4152-8987-1848575f7286 button.colab-df-convert');\n",
              "        buttonEl.style.display =\n",
              "          google.colab.kernel.accessAllowed ? 'block' : 'none';\n",
              "\n",
              "        async function convertToInteractive(key) {\n",
              "          const element = document.querySelector('#df-dbbccd5b-d8dd-4152-8987-1848575f7286');\n",
              "          const dataTable =\n",
              "            await google.colab.kernel.invokeFunction('convertToInteractive',\n",
              "                                                     [key], {});\n",
              "          if (!dataTable) return;\n",
              "\n",
              "          const docLinkHtml = 'Like what you see? Visit the ' +\n",
              "            '<a target=\"_blank\" href=https://colab.research.google.com/notebooks/data_table.ipynb>data table notebook</a>'\n",
              "            + ' to learn more about interactive tables.';\n",
              "          element.innerHTML = '';\n",
              "          dataTable['output_type'] = 'display_data';\n",
              "          await google.colab.output.renderOutput(dataTable, element);\n",
              "          const docLink = document.createElement('div');\n",
              "          docLink.innerHTML = docLinkHtml;\n",
              "          element.appendChild(docLink);\n",
              "        }\n",
              "      </script>\n",
              "    </div>\n",
              "  </div>\n",
              "  "
            ],
            "application/vnd.google.colaboratory.module+javascript": "\n      import \"https://ssl.gstatic.com/colaboratory/data_table/a8bd4d5e58f96183/data_table.js\";\n\n      window.createDataTable({\n        data: [[\"2021-04-01 00:00:00\",\n{\n            'v': 56,\n            'f': \"56\",\n        },\n{\n            'v': NaN,\n            'f': \"NaN\",\n        },\n{\n            'v': NaN,\n            'f': \"NaN\",\n        },\n{\n            'v': NaN,\n            'f': \"NaN\",\n        },\n{\n            'v': NaN,\n            'f': \"NaN\",\n        },\n{\n            'v': 56.0,\n            'f': \"56.0\",\n        },\n{\n            'v': 78.11553525748621,\n            'f': \"78.11553525748621\",\n        },\n{\n            'v': 81.05941045389532,\n            'f': \"81.05941045389532\",\n        },\n{\n            'v': 73.59924984279081,\n            'f': \"73.59924984279081\",\n        },\n{\n            'v': 78.64337766303863,\n            'f': \"78.64337766303863\",\n        }],\n [\"2021-05-01 00:00:00\",\n{\n            'v': 99,\n            'f': \"99\",\n        },\n{\n            'v': 43.0,\n            'f': \"43.0\",\n        },\n{\n            'v': NaN,\n            'f': \"NaN\",\n        },\n{\n            'v': 76.31399186461694,\n            'f': \"76.31399186461694\",\n        },\n{\n            'v': NaN,\n            'f': \"NaN\",\n        },\n{\n            'v': 56.0,\n            'f': \"56.0\",\n        },\n{\n            'v': 82.82181125553178,\n            'f': \"82.82181125553178\",\n        },\n{\n            'v': 84.65262963607866,\n            'f': \"84.65262963607866\",\n        },\n{\n            'v': 90.59963482074171,\n            'f': \"90.59963482074171\",\n        },\n{\n            'v': 90.2150868213241,\n            'f': \"90.2150868213241\",\n        }],\n [\"2021-06-01 00:00:00\",\n{\n            'v': 87,\n            'f': \"87\",\n        },\n{\n            'v': -12.0,\n            'f': \"-12.0\",\n        },\n{\n            'v': NaN,\n            'f': \"NaN\",\n        },\n{\n            'v': 87.46759646447812,\n            'f': \"87.46759646447812\",\n        },\n{\n            'v': NaN,\n            'f': \"NaN\",\n        },\n{\n            'v': 63.16666666666667,\n            'f': \"63.16666666666667\",\n        },\n{\n            'v': 87.5280878241983,\n            'f': \"87.5280878241983\",\n        },\n{\n            'v': 88.40513045044693,\n            'f': \"88.40513045044693\",\n        },\n{\n            'v': 85.09967094026612,\n            'f': \"85.09967094026612\",\n        },\n{\n            'v': 86.44300262215576,\n            'f': \"86.44300262215576\",\n        }],\n [\"2021-07-01 00:00:00\",\n{\n            'v': 100,\n            'f': \"100\",\n        },\n{\n            'v': 13.0,\n            'f': \"13.0\",\n        },\n{\n            'v': 44.0,\n            'f': \"44.0\",\n        },\n{\n            'v': 93.59159692677673,\n            'f': \"93.59159692677673\",\n        },\n{\n            'v': 113.16693043695624,\n            'f': \"113.16693043695624\",\n        },\n{\n            'v': 67.13888888888889,\n            'f': \"67.13888888888889\",\n        },\n{\n            'v': 92.2343641439219,\n            'f': \"92.2343641439219\",\n        },\n{\n            'v': 92.32397271023949,\n            'f': \"92.32397271023949\",\n        },\n{\n            'v': 87.53282596335268,\n            'f': \"87.53282596335268\",\n        },\n{\n            'v': 89.34037382058594,\n            'f': \"89.34037382058594\",\n        }],\n [\"2021-08-01 00:00:00\",\n{\n            'v': 106,\n            'f': \"106\",\n        },\n{\n            'v': 6.0,\n            'f': \"6.0\",\n        },\n{\n            'v': 7.0,\n            'f': \"7.0\",\n        },\n{\n            'v': 96.9540418948098,\n            'f': \"96.9540418948098\",\n        },\n{\n            'v': 84.47227326299972,\n            'f': \"84.47227326299972\",\n        },\n{\n            'v': 72.61574074074073,\n            'f': \"72.61574074074073\",\n        },\n{\n            'v': 96.9406405872316,\n            'f': \"96.9406405872316\",\n        },\n{\n            'v': 96.4165304224932,\n            'f': \"96.4165304224932\",\n        },\n{\n            'v': 104.53321138932823,\n            'f': \"104.53321138932823\",\n        },\n{\n            'v': 102.48605628712285,\n            'f': \"102.48605628712285\",\n        }],\n [\"2021-09-01 00:00:00\",\n{\n            'v': 95,\n            'f': \"95\",\n        },\n{\n            'v': -11.0,\n            'f': \"-11.0\",\n        },\n{\n            'v': 8.0,\n            'f': \"8.0\",\n        },\n{\n            'v': 98.80022662857242,\n            'f': \"98.80022662857242\",\n        },\n{\n            'v': 110.85427845365444,\n            'f': \"110.85427845365444\",\n        },\n{\n            'v': 78.17978395061728,\n            'f': \"78.17978395061728\",\n        },\n{\n            'v': 101.6469170498193,\n            'f': \"101.6469170498193\",\n        },\n{\n            'v': 100.69050397277942,\n            'f': \"100.69050397277942\",\n        },\n{\n            'v': 99.03324740553433,\n            'f': \"99.03324740553433\",\n        },\n{\n            'v': 98.20089672561734,\n            'f': \"98.20089672561734\",\n        }],\n [\"2021-10-01 00:00:00\",\n{\n            'v': 85,\n            'f': \"85\",\n        },\n{\n            'v': -10.0,\n            'f': \"-10.0\",\n        },\n{\n            'v': -15.0,\n            'f': \"-15.0\",\n        },\n{\n            'v': 99.81389320262252,\n            'f': \"99.81389320262252\",\n        },\n{\n            'v': 82.35639613214468,\n            'f': \"82.35639613214468\",\n        },\n{\n            'v': 80.98315329218106,\n            'f': \"80.98315329218106\",\n        },\n{\n            'v': 106.35319327836523,\n            'f': \"106.35319327836523\",\n        },\n{\n            'v': 105.15393493533666,\n            'f': \"105.15393493533666\",\n        },\n{\n            'v': 101.46640234020371,\n            'f': \"101.46640234020371\",\n        },\n{\n            'v': 101.49236550965334,\n            'f': \"101.49236550965334\",\n        }],\n [\"2021-11-01 00:00:00\",\n{\n            'v': 125,\n            'f': \"125\",\n        },\n{\n            'v': 40.0,\n            'f': \"40.0\",\n        },\n{\n            'v': 19.0,\n            'f': \"19.0\",\n        },\n{\n            'v': 100.3704571826812,\n            'f': \"100.3704571826812\",\n        },\n{\n            'v': 108.91843334371119,\n            'f': \"108.91843334371119\",\n        },\n{\n            'v': 81.65262774348422,\n            'f': \"81.65262774348422\",\n        },\n{\n            'v': 111.05946928777057,\n            'f': \"111.05946928777057\",\n        },\n{\n            'v': 109.81522163307999,\n            'f': \"109.81522163307999\",\n        },\n{\n            'v': 118.46678733503536,\n            'f': \"118.46678733503536\",\n        },\n{\n            'v': 116.42611056837912,\n            'f': \"116.42611056837912\",\n        }],\n [\"2021-12-01 00:00:00\",\n{\n            'v': 125,\n            'f': \"125\",\n        },\n{\n            'v': 0.0,\n            'f': \"0.0\",\n        },\n{\n            'v': 30.0,\n            'f': \"30.0\",\n        },\n{\n            'v': 100.67604431737492,\n            'f': \"100.67604431737492\",\n        },\n{\n            'v': 80.5852647960936,\n            'f': \"80.5852647960936\",\n        },\n{\n            'v': 88.87718978623684,\n            'f': \"88.87718978623684\",\n        },\n{\n            'v': 115.76574582309338,\n            'f': \"115.76574582309338\",\n        },\n{\n            'v': 114.68313543404298,\n            'f': \"114.68313543404298\",\n        },\n{\n            'v': 112.96682342673705,\n            'f': \"112.96682342673705\",\n        },\n{\n            'v': 111.55808781210857,\n            'f': \"111.55808781210857\",\n        }],\n [\"2022-01-01 00:00:00\",\n{\n            'v': 137,\n            'f': \"137\",\n        },\n{\n            'v': 12.0,\n            'f': \"12.0\",\n        },\n{\n            'v': 52.0,\n            'f': \"52.0\",\n        },\n{\n            'v': 100.84383005313249,\n            'f': \"100.84383005313249\",\n        },\n{\n            'v': 107.29800090651375,\n            'f': \"107.29800090651375\",\n        },\n{\n            'v': 94.89765815519736,\n            'f': \"94.89765815519736\",\n        },\n{\n            'v': 120.4720222882872,\n            'f': \"120.4720222882872\",\n        },\n{\n            'v': 119.76683512472219,\n            'f': \"119.76683512472219\",\n        },\n{\n            'v': 115.3999786008148,\n            'f': \"115.3999786008148\",\n        },\n{\n            'v': 115.29725926279848,\n            'f': \"115.29725926279848\",\n        }],\n [\"2022-02-01 00:00:00\",\n{\n            'v': 116,\n            'f': \"116\",\n        },\n{\n            'v': -21.0,\n            'f': \"-21.0\",\n        },\n{\n            'v': -9.0,\n            'f': \"-9.0\",\n        },\n{\n            'v': 100.93595452411824,\n            'f': \"100.93595452411824\",\n        },\n{\n            'v': 79.10270885567637,\n            'f': \"79.10270885567637\",\n        },\n{\n            'v': 101.91471512933113,\n            'f': \"101.91471512933113\",\n        },\n{\n            'v': 125.17829886216599,\n            'f': \"125.17829886216599\",\n        },\n{\n            'v': 125.0758862934047,\n            'f': \"125.0758862934047\",\n        },\n{\n            'v': 132.40036416288038,\n            'f': \"132.40036416288038\",\n        },\n{\n            'v': 132.26227862469898,\n            'f': \"132.26227862469898\",\n        }],\n [\"2022-03-01 00:00:00\",\n{\n            'v': 117,\n            'f': \"117\",\n        },\n{\n            'v': 1.0,\n            'f': \"1.0\",\n        },\n{\n            'v': -8.0,\n            'f': \"-8.0\",\n        },\n{\n            'v': 100.98653640532577,\n            'f': \"100.98653640532577\",\n        },\n{\n            'v': 105.94159007073226,\n            'f': \"105.94159007073226\",\n        },\n{\n            'v': 104.26226260777594,\n            'f': \"104.26226260777594\",\n        },\n{\n            'v': 129.88457505299138,\n            'f': \"129.88457505299138\",\n        },\n{\n            'v': 130.62027785347678,\n            'f': \"130.62027785347678\",\n        },\n{\n            'v': 126.90039991284513,\n            'f': \"126.90039991284513\",\n        },\n{\n            'v': 126.73211170404065,\n            'f': \"126.73211170404065\",\n        }]],\n        columns: [[\"string\", \"Month\"], [\"number\", \"Attrition\"], [\"number\", \"Attr 1 Difference\"], [\"number\", \"Seasonal First Difference\"], [\"number\", \"forecast\"], [\"number\", \"forecast_s\"], [\"number\", \"HWES1\"], [\"number\", \"HWES2_ADD\"], [\"number\", \"HWES2_MUL\"], [\"number\", \"HWES3_ADD\"], [\"number\", \"HWES3_MUL\"]],\n        columnOptions: [{\"width\": \"1px\", \"className\": \"index_column\"}],\n        rowsPerPage: 25,\n        helpUrl: \"https://colab.research.google.com/notebooks/data_table.ipynb\",\n        suppressOutputScrolling: true,\n        minimumWidth: undefined,\n      });\n    "
          },
          "metadata": {},
          "execution_count": 81
        }
      ]
    }
  ]
}